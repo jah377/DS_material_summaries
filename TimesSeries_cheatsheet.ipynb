{
 "cells": [
  {
   "cell_type": "markdown",
   "metadata": {},
   "source": [
    "# Times Series Summary\n",
    "- Form of structured data (order of observation matters)\n",
    "    - Fixed frequency - recorded with fixed unit between observations\n",
    "    - Irregular frequency - without fixed unit of time or offset"
   ]
  },
  {
   "cell_type": "code",
   "execution_count": 6,
   "metadata": {},
   "outputs": [],
   "source": [
    "# import modules\n",
    "import numpy as np\n",
    "import pandas as pd\n",
    "from datetime import datetime as dt"
   ]
  },
  {
   "cell_type": "markdown",
   "metadata": {},
   "source": [
    "### Date and Time Data Types and Tools"
   ]
  },
  {
   "cell_type": "code",
   "execution_count": 33,
   "metadata": {},
   "outputs": [
    {
     "data": {
      "text/plain": [
       "50777"
      ]
     },
     "execution_count": 33,
     "metadata": {},
     "output_type": "execute_result"
    }
   ],
   "source": [
    "# Basic daytime object\n",
    "now = dt.now() # dt object [year,month, day, hour, minute, sec, microsec]\n",
    "\n",
    "now.year        # return year\n",
    "now.month       # return month\n",
    "now.day         # return day\n",
    "now.hour        # return hour\n",
    "now.minute      # return minute\n",
    "now.second      # return second\n",
    "now.microsecond # return micorsecond\n",
    "\n",
    "delta = now - dt(2012,3,5) # diff. between two dates\n",
    "delta.days                 # days between two dates\n",
    "delta.seconds              # seconds between two dates\n"
   ]
  },
  {
   "cell_type": "code",
   "execution_count": 43,
   "metadata": {},
   "outputs": [
    {
     "data": {
      "text/plain": [
       "datetime.datetime(2020, 10, 3, 14, 6, 17, 117863)"
      ]
     },
     "execution_count": 43,
     "metadata": {},
     "output_type": "execute_result"
    }
   ],
   "source": [
    "# timedelta represents temporal difference between datetime objects\n",
    "from datetime import timedelta\n",
    "\n",
    "now + timedelta( days=12 ) # date of 12 days after today's date\n"
   ]
  },
  {
   "cell_type": "code",
   "execution_count": 75,
   "metadata": {},
   "outputs": [
    {
     "data": {
      "text/plain": [
       "DatetimeIndex(['2001-01-03', '2001-01-10', '2001-01-17', '2001-01-24',\n",
       "               '2001-01-31', '2001-02-07', '2001-02-14', '2001-02-21',\n",
       "               '2001-02-28', '2001-03-07'],\n",
       "              dtype='datetime64[ns]', freq='W-WED')"
      ]
     },
     "execution_count": 75,
     "metadata": {},
     "output_type": "execute_result"
    }
   ],
   "source": [
    "# Converting between string and datetime\n",
    "stamp = datetime(2001,1,3)\n",
    "\n",
    "str(stamp)                    # convert to string '2001-01-03 00:00:00'\n",
    "stamp.strftime('%Y-%m-%d')    # convert to specific format '2001-01-03'\n",
    "\n",
    "stamp.strftime('%Y')  # year (4-digits)\n",
    "stamp.strftime('%y')  # year (2-digits)\n",
    "stamp.strftime('%m')  # month\n",
    "stamp.strftime('%d')  # day\n",
    "stamp.strftime('%H')  # hour (24hr cycle)\n",
    "stamp.strftime('%I')  # hour (12hr cycle)\n",
    "stamp.strftime('%M')  # minute\n",
    "stamp.strftime('%S')  # seconds\n",
    "stamp.strftime('%w')  # weekday [Sun=0, Sat=6]\n",
    "stamp.strftime('%U')  # week number of year [days before first sunday = week0]\n",
    "stamp.strftime('%W')  # week number of year [days before first monday = week0]\n",
    "\n",
    "stamp.strftime('%F')  # shortcut '%Y-%m-%d'     ['2001-01-03']\n",
    "stamp.strftime('%D')  # shortcut '%m/%d/%y'     ['01/03/01']\n",
    "\n",
    "\n",
    "# If format unknown -> use parse\n",
    "from dateutil.parser import parse\n",
    "parse('2011-01-03')               # return datetime object\n",
    "parse('6/12/2009', dayfirst=True) # if day appears before month\n",
    "\n",
    "# Convert list of strings to datetime\n",
    "datestrs = ['2011-7-06 12:00:00', '2011-08-6']\n",
    "pd.to_datetime(datestrs)              # datetime object\n",
    "pd.to_datetime(datestrs + [None])     # NaT = null dt value\n",
    "\n",
    "pd.date_range('1/1/2000', periods=10)               # create series of consecutive dates\n",
    "pd.date_range('1/1/2001', periods=10, freq='W-WED') # create series of n Wenesdays"
   ]
  },
  {
   "cell_type": "markdown",
   "metadata": {},
   "source": [
    "### Times Series Basics"
   ]
  },
  {
   "cell_type": "code",
   "execution_count": 66,
   "metadata": {},
   "outputs": [
    {
     "data": {
      "text/plain": [
       "pandas._libs.tslibs.timestamps.Timestamp"
      ]
     },
     "execution_count": 66,
     "metadata": {},
     "output_type": "execute_result"
    }
   ],
   "source": [
    "# Basic TS is series indexed by timestamps\n",
    "\n",
    "dates = [datetime(2011, 1, 2), datetime(2011, 1, 5), datetime(2011, 1, 7), datetime(2011, 1, 8), datetime(2011, 1, 10), datetime(2011, 1, 12)]\n",
    "data = np.random.rand(6)\n",
    " \n",
    "ts = pd.Series(np.random.rand(6), index=dates)  #time series data\n",
    "type(ts.index)          # index = DatetimeIndex object\n",
    "type(ts.index[0])       # scalar index el = Timestamp object\n"
   ]
  },
  {
   "cell_type": "code",
   "execution_count": 74,
   "metadata": {},
   "outputs": [
    {
     "data": {
      "text/plain": [
       "2000-01-01   -1.004192\n",
       "2000-01-02    1.385041\n",
       "2000-01-03   -0.693117\n",
       "2000-01-04   -1.285536\n",
       "2000-01-05    1.062582\n",
       "                ...   \n",
       "2002-09-22   -1.187653\n",
       "2002-09-23    1.406015\n",
       "2002-09-24    0.102003\n",
       "2002-09-25    0.327340\n",
       "2002-09-26    0.527048\n",
       "Freq: D, Length: 1000, dtype: float64"
      ]
     },
     "execution_count": 74,
     "metadata": {},
     "output_type": "execute_result"
    }
   ],
   "source": [
    "# Indexing, Selection, Subsetting\n",
    "ts = pd.Series(np.random.randn(1000), index=pd.date_range('1/1/2000', periods=1000))\n",
    "\n",
    "ts.index[2]       # return index \n",
    "ts[ ts.index[2] ] # return value\n",
    "\n",
    "ts['2001']        # return all days in 2001\n",
    "ts['2001-05']     # return all days in May, 2001\n",
    "\n",
    "ts.truncate(after='1/9/2011') # return all days AFTER input date\n",
    "ts.truncate(before='1/9/2011') # return all days BEFORE input date\n"
   ]
  },
  {
   "cell_type": "code",
   "execution_count": 83,
   "metadata": {},
   "outputs": [
    {
     "data": {
      "text/plain": [
       "2001-01-01    1\n",
       "2001-01-02    2\n",
       "2001-01-05    1\n",
       "dtype: int64"
      ]
     },
     "execution_count": 83,
     "metadata": {},
     "output_type": "execute_result"
    }
   ],
   "source": [
    "# Dealing with duplicate indices\n",
    "\n",
    "dates = pd.DatetimeIndex(['1/1/2001', '1/2/2001', '1/2/2001','1/5/2001'])\n",
    "dup_ts = pd.Series(np.arange(4), index=dates)\n",
    "\n",
    "dup_ts.index.is_unique   # indices are not unique\n",
    "dup_ts['1/2/2001']       # two entries for 1/2/2001\n",
    "\n",
    "grouped = dup_ts.groupby(level=0) # aggregate data having non-u ique timestamps\n",
    "grouped.mean()                    # mean value per day\n",
    "grouped.count()                   # n obs per date\n"
   ]
  },
  {
   "cell_type": "markdown",
   "metadata": {},
   "source": [
    "### Date Ranges, Frequencies, and Shifting\n",
    "- Desirable to work relative to fixed frequency, even if it means add NaT"
   ]
  },
  {
   "cell_type": "code",
   "execution_count": 91,
   "metadata": {},
   "outputs": [
    {
     "data": {
      "text/plain": [
       "DatetimeIndex(['2001-01-31', '2001-02-28', '2001-03-30', '2001-04-30',\n",
       "               '2001-05-31', '2001-06-29', '2001-07-31', '2001-08-31',\n",
       "               '2001-09-28', '2001-10-31', '2001-11-30'],\n",
       "              dtype='datetime64[ns]', freq='BM')"
      ]
     },
     "execution_count": 91,
     "metadata": {},
     "output_type": "execute_result"
    }
   ],
   "source": [
    "# Date Ranges\n",
    "\n",
    "pd.date_range('2012-04-01','2012-06-01')      # DatetimeIndex of all days between dates\n",
    "pd.date_range(start='2012-04-01', periods=20) # n dates (freq=Day)\n",
    "pd.date_range('2001-01-01', '2001-12-01', freq='BM') # last business days per months between dates\n",
    "\n"
   ]
  },
  {
   "cell_type": "code",
   "execution_count": 107,
   "metadata": {},
   "outputs": [
    {
     "data": {
      "text/plain": [
       "DatetimeIndex(['2001-01-19', '2001-02-16', '2001-03-16', '2001-04-20',\n",
       "               '2001-05-18', '2001-06-15', '2001-07-20', '2001-08-17'],\n",
       "              dtype='datetime64[ns]', freq='WOM-3FRI')"
      ]
     },
     "execution_count": 107,
     "metadata": {},
     "output_type": "execute_result"
    }
   ],
   "source": [
    "# Frequencies and Date Offsets\n",
    "start = '2001-1-1'\n",
    "end = '2001-9-1'\n",
    "\n",
    "pd.date_range(start, end, freq='4h')       # offset by 4hours\n",
    "pd.date_range(start, end, freq='1h30min')  # offset by 1hour,30mins\n",
    "pd.date_range(start, end, freq='WOM-3FRI') # get dates for every 3rd Friday of the month\n"
   ]
  },
  {
   "cell_type": "code",
   "execution_count": 117,
   "metadata": {},
   "outputs": [
    {
     "data": {
      "text/plain": [
       "2000-02-03    0.007270\n",
       "2000-03-03    1.340966\n",
       "2000-04-03    1.737451\n",
       "2000-05-03   -0.542965\n",
       "dtype: float64"
      ]
     },
     "execution_count": 117,
     "metadata": {},
     "output_type": "execute_result"
    }
   ],
   "source": [
    "# Shifting - moving data backward and forward through time\n",
    "ts = pd.Series(np.random.randn(4), index=pd.date_range('1/1/2000', periods=4, freq='M'))\n",
    "\n",
    "ts.shift(2)              # shifts VALUES +2 dates ahead (ts[:2]=NaN, index=same)\n",
    "ts.shift(-1)             # shifts VALUES -1 dates behind (ts[4]=NaN, index=same)\n",
    "\n",
    "ts.shift(2, freq='M')    # shifts INDEX 2 months      (ex: ts[1] value same)\n",
    "ts.shift(3, freq='D')    # shifts INDEX 3 days ahead   \n",
    "ts.shift(1, freq='90T')  # shifts INDEX 90min ahead   "
   ]
  },
  {
   "cell_type": "code",
   "execution_count": null,
   "metadata": {},
   "outputs": [],
   "source": []
  },
  {
   "cell_type": "code",
   "execution_count": null,
   "metadata": {},
   "outputs": [],
   "source": []
  },
  {
   "cell_type": "code",
   "execution_count": null,
   "metadata": {},
   "outputs": [],
   "source": []
  },
  {
   "cell_type": "code",
   "execution_count": null,
   "metadata": {},
   "outputs": [],
   "source": []
  },
  {
   "cell_type": "code",
   "execution_count": null,
   "metadata": {},
   "outputs": [],
   "source": []
  },
  {
   "cell_type": "code",
   "execution_count": null,
   "metadata": {},
   "outputs": [],
   "source": []
  },
  {
   "cell_type": "code",
   "execution_count": null,
   "metadata": {},
   "outputs": [],
   "source": []
  },
  {
   "cell_type": "code",
   "execution_count": null,
   "metadata": {},
   "outputs": [],
   "source": []
  },
  {
   "cell_type": "code",
   "execution_count": null,
   "metadata": {},
   "outputs": [],
   "source": []
  },
  {
   "cell_type": "code",
   "execution_count": null,
   "metadata": {},
   "outputs": [],
   "source": []
  }
 ],
 "metadata": {
  "kernelspec": {
   "display_name": "Python 3",
   "language": "python",
   "name": "python3"
  },
  "language_info": {
   "codemirror_mode": {
    "name": "ipython",
    "version": 3
   },
   "file_extension": ".py",
   "mimetype": "text/x-python",
   "name": "python",
   "nbconvert_exporter": "python",
   "pygments_lexer": "ipython3",
   "version": "3.7.4"
  }
 },
 "nbformat": 4,
 "nbformat_minor": 2
}
