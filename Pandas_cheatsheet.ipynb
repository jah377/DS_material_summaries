{
 "cells": [
  {
   "cell_type": "markdown",
   "metadata": {},
   "source": [
    "# Pandas Review\n",
    "- Data structures and data manipulation tools designed to make data cleaning anad analysis easy\n",
    "\n"
   ]
  },
  {
   "cell_type": "code",
   "execution_count": 43,
   "metadata": {},
   "outputs": [],
   "source": [
    "# import module\n",
    "import numpy as np\n",
    "import pandas as pd\n"
   ]
  },
  {
   "cell_type": "markdown",
   "metadata": {},
   "source": [
    "### Introduction to Data Structures"
   ]
  },
  {
   "cell_type": "code",
   "execution_count": 44,
   "metadata": {},
   "outputs": [
    {
     "data": {
      "text/plain": [
       "alphabet\n",
       "b    1\n",
       "a    2\n",
       "c    3\n",
       "Name: numbers, dtype: int64"
      ]
     },
     "execution_count": 44,
     "metadata": {},
     "output_type": "execute_result"
    }
   ],
   "source": [
    "# Series - 1D array with values and associated labels (ie index)\n",
    "list_ = [*range(4)]\n",
    "dict_ = {'d':0, 'b':1, 'a': 2, 'c':3}\n",
    "\n",
    "x = pd.Series(list_, index=['d','b','a','c']) # create Series with list\n",
    "y = pd.Series(dict_)                          # create Series with dict (keys automatically index)\n",
    "\n",
    "x.values           # return array of values\n",
    "x.index            # return index object\n",
    "x.name = 'numbers' # assign name to array\n",
    "x.index.name = 'alphabet'\n",
    "\n",
    "x[['a','d']] # select value by index label\n",
    "x[[2, 0]]    # select value by index value\n",
    "x[ x>0 ]     # filter by boolean"
   ]
  },
  {
   "cell_type": "code",
   "execution_count": 58,
   "metadata": {},
   "outputs": [],
   "source": [
    "# DataFrame - rectangular table of data\n",
    "\n",
    "data={'state':['Ohio', 'Ohio', 'Ohio', 'Nevada', 'Nevada', 'Nevada'],\n",
    "      'year': [2000, 2001, 2002, 2001, 2002, 2003],\n",
    "      'pop': [1.5, 1.7, 3.6, 2.4, 2.9, 3.2]}\n",
    "\n",
    "df = pd.DataFrame(data, columns=['year', 'state','pop'])           # arrange features by column value\n",
    "df = pd.DataFrame(data, \n",
    "                  columns=['year', 'state','pop','debt'], # debt not in data -> all NaN values\n",
    "                  index=['one','two','three','four','five','six']) # assign index values\n",
    "\n",
    "df.head(5)   # return top n obs.\n",
    "df.tail(5)   # return bottom n obs.\n",
    "df.sample(5) # return n obs.\n",
    "\n",
    "# Retriving Columns\n",
    "df['state']   # return column as Series\n",
    "df.state      # return column as Series\n",
    "df[['state']] # return column as DataFrame\n",
    "\n",
    "# Retriving Rows\n",
    "df.loc['three'] # return obs by index label\n",
    "df.iloc[2]      # return obs by index value\n",
    "\n",
    "# Reassigning Data\n",
    "df['random1'] = 16.5                      # entire column single value\n",
    "df['random2'] = np.arange(6, dtype=float) # list to column\n",
    "df['debt'] = pd.Series([-1.2, -1.5, -1.7], index=['two','four','five']) # assign values by indices\n",
    "df['eastern'] = (df.state=='Ohio')\n",
    "\n",
    "# Removing columns\n",
    "del df['random1']                        # delete column random1\n",
    "df.drop('random2', axis=1)               # delete column random2 (not permanent)\n",
    "df.drop('random2', axis=1, inplace=True) # permanently delete column\n"
   ]
  },
  {
   "cell_type": "markdown",
   "metadata": {},
   "source": [
    "### Essential Functionality"
   ]
  },
  {
   "cell_type": "code",
   "execution_count": 74,
   "metadata": {},
   "outputs": [
    {
     "data": {
      "text/plain": [
       "0      blue\n",
       "1    yellow\n",
       "2    yellow\n",
       "3    purple\n",
       "4    purple\n",
       "5       NaN\n",
       "dtype: object"
      ]
     },
     "execution_count": 74,
     "metadata": {},
     "output_type": "execute_result"
    }
   ],
   "source": [
    "# Reindexing - create new object with data confomred to new index\n",
    "\n",
    "df = pd.Series([4.5, 7.2, -5.3, 3.6], index=['d','b','a','c'])\n",
    "df1 = pd.Series(['blue', 'yellow', 'purple'], index=[0, 2, 4])\n",
    "\n",
    "df.reindex(['a','b','c','d'])         # reorganized by index value\n",
    "df1.reindex(range(6), method='ffill') # 'ffill' forward fills missing values with previous value\n",
    "df1.reindex(range(6), method='bfill') # 'bfill' backward fills missing values with next value\n"
   ]
  },
  {
   "cell_type": "code",
   "execution_count": 84,
   "metadata": {},
   "outputs": [
    {
     "data": {
      "text/plain": [
       "d    0.0\n",
       "b    1.0\n",
       "a    2.0\n",
       "dtype: float64"
      ]
     },
     "execution_count": 84,
     "metadata": {},
     "output_type": "execute_result"
    }
   ],
   "source": [
    "# Dropping entries from an axis\n",
    "df = pd.Series(np.arange(5.), index=['d','b','a','c', 'z'])\n",
    "\n",
    "df.drop('c', axis=0)            # remove labeled rows\n",
    "df.drop(['c','z'], axis=0)      # remove labeled rows\n"
   ]
  },
  {
   "cell_type": "markdown",
   "metadata": {},
   "source": [
    "### Function Application and Mapping"
   ]
  },
  {
   "cell_type": "code",
   "execution_count": 100,
   "metadata": {},
   "outputs": [
    {
     "data": {
      "text/plain": [
       "Utah      -0.43\n",
       "Ohio       0.53\n",
       "Texas     -0.65\n",
       "Oregon     0.76\n",
       "Name: b, dtype: object"
      ]
     },
     "execution_count": 100,
     "metadata": {},
     "output_type": "execute_result"
    }
   ],
   "source": [
    "# df.apply(func) applies function to dataframe\n",
    "df = pd.DataFrame(np.random.randn(4,3), \n",
    "                  columns=list('bde'),                       # col labels\n",
    "                  index=['Utah', 'Ohio', 'Texas', 'Oregon']) # row labels\n",
    "f1 = lambda x: x.max()-x.min()   # agg. function\n",
    "f2 = lambda x: '%0.2f' % x       # el function\n",
    "\n",
    "df.apply( f1, axis=0 )     # apply func across per column\n",
    "df.apply( f1, axis=1 )     # apply func across per row\n",
    "df.applymap( f2 )          # apply func per el in DATAFRAME\n",
    "df['b'].map( f2 )          # apply func per el in SERIES\n"
   ]
  },
  {
   "cell_type": "markdown",
   "metadata": {},
   "source": [
    "### Sorting and Ranking"
   ]
  },
  {
   "cell_type": "code",
   "execution_count": 117,
   "metadata": {},
   "outputs": [
    {
     "data": {
      "text/html": [
       "<div>\n",
       "<style scoped>\n",
       "    .dataframe tbody tr th:only-of-type {\n",
       "        vertical-align: middle;\n",
       "    }\n",
       "\n",
       "    .dataframe tbody tr th {\n",
       "        vertical-align: top;\n",
       "    }\n",
       "\n",
       "    .dataframe thead th {\n",
       "        text-align: right;\n",
       "    }\n",
       "</style>\n",
       "<table border=\"1\" class=\"dataframe\">\n",
       "  <thead>\n",
       "    <tr style=\"text-align: right;\">\n",
       "      <th></th>\n",
       "      <th>e</th>\n",
       "      <th>d</th>\n",
       "      <th>a</th>\n",
       "    </tr>\n",
       "  </thead>\n",
       "  <tbody>\n",
       "    <tr>\n",
       "      <td>Utah</td>\n",
       "      <td>0.047606</td>\n",
       "      <td>0.049288</td>\n",
       "      <td>0.164683</td>\n",
       "    </tr>\n",
       "    <tr>\n",
       "      <td>Ohio</td>\n",
       "      <td>-1.119365</td>\n",
       "      <td>-0.202757</td>\n",
       "      <td>-0.888228</td>\n",
       "    </tr>\n",
       "    <tr>\n",
       "      <td>Texas</td>\n",
       "      <td>-1.346674</td>\n",
       "      <td>-0.495478</td>\n",
       "      <td>1.957700</td>\n",
       "    </tr>\n",
       "    <tr>\n",
       "      <td>Oregon</td>\n",
       "      <td>-0.065572</td>\n",
       "      <td>0.064485</td>\n",
       "      <td>-0.546620</td>\n",
       "    </tr>\n",
       "  </tbody>\n",
       "</table>\n",
       "</div>"
      ],
      "text/plain": [
       "               e         d         a\n",
       "Utah    0.047606  0.049288  0.164683\n",
       "Ohio   -1.119365 -0.202757 -0.888228\n",
       "Texas  -1.346674 -0.495478  1.957700\n",
       "Oregon -0.065572  0.064485 -0.546620"
      ]
     },
     "execution_count": 117,
     "metadata": {},
     "output_type": "execute_result"
    }
   ],
   "source": [
    "# Sorting dataframes\n",
    "df = pd.DataFrame(np.random.randn(4,3), \n",
    "                  columns=list('dae'),                       # col labels\n",
    "                  index=['Utah', 'Ohio', 'Texas', 'Oregon']) # row labels\n",
    "\n",
    "df.sort_index(axis=0, ascending=False) # sort rows by INDEX\n",
    "df.sort_index(axis=1, ascending=True)  # sort columns by INDEX\n",
    "\n",
    "df.sort_values(by='a', axis=0)    # sort rows by VALUE of col A\n",
    "df.sort_values(by='Utah', axis=1) # sort col by VALUE of row UTAH\n"
   ]
  },
  {
   "cell_type": "code",
   "execution_count": 126,
   "metadata": {},
   "outputs": [
    {
     "data": {
      "text/html": [
       "<div>\n",
       "<style scoped>\n",
       "    .dataframe tbody tr th:only-of-type {\n",
       "        vertical-align: middle;\n",
       "    }\n",
       "\n",
       "    .dataframe tbody tr th {\n",
       "        vertical-align: top;\n",
       "    }\n",
       "\n",
       "    .dataframe thead th {\n",
       "        text-align: right;\n",
       "    }\n",
       "</style>\n",
       "<table border=\"1\" class=\"dataframe\">\n",
       "  <thead>\n",
       "    <tr style=\"text-align: right;\">\n",
       "      <th></th>\n",
       "      <th>d</th>\n",
       "      <th>a</th>\n",
       "      <th>e</th>\n",
       "    </tr>\n",
       "  </thead>\n",
       "  <tbody>\n",
       "    <tr>\n",
       "      <td>Utah</td>\n",
       "      <td>2.0</td>\n",
       "      <td>3.0</td>\n",
       "      <td>1.0</td>\n",
       "    </tr>\n",
       "    <tr>\n",
       "      <td>Ohio</td>\n",
       "      <td>3.0</td>\n",
       "      <td>2.0</td>\n",
       "      <td>1.0</td>\n",
       "    </tr>\n",
       "    <tr>\n",
       "      <td>Texas</td>\n",
       "      <td>2.0</td>\n",
       "      <td>3.0</td>\n",
       "      <td>1.0</td>\n",
       "    </tr>\n",
       "    <tr>\n",
       "      <td>Oregon</td>\n",
       "      <td>3.0</td>\n",
       "      <td>1.0</td>\n",
       "      <td>2.0</td>\n",
       "    </tr>\n",
       "  </tbody>\n",
       "</table>\n",
       "</div>"
      ],
      "text/plain": [
       "          d    a    e\n",
       "Utah    2.0  3.0  1.0\n",
       "Ohio    3.0  2.0  1.0\n",
       "Texas   2.0  3.0  1.0\n",
       "Oregon  3.0  1.0  2.0"
      ]
     },
     "execution_count": 126,
     "metadata": {},
     "output_type": "execute_result"
    }
   ],
   "source": [
    "# Ranking - index of sorted values [similar to np.argsort()]\n",
    "\n",
    "ser = pd.Series([7, -5, 7, 4, 2, 0, 4]) # 7 repeated\n",
    "\n",
    "ser.rank(method='first') #i=0 ranked lower than i=2 since it came first\n",
    "df.rank(axis=0) # rank by row val. (per col)\n",
    "df.rank(axis=1) # rank by column val. (per row)"
   ]
  },
  {
   "cell_type": "markdown",
   "metadata": {},
   "source": [
    "### Summarizing and Computing Descriptive Statistics"
   ]
  },
  {
   "cell_type": "code",
   "execution_count": 155,
   "metadata": {},
   "outputs": [
    {
     "data": {
      "text/html": [
       "<div>\n",
       "<style scoped>\n",
       "    .dataframe tbody tr th:only-of-type {\n",
       "        vertical-align: middle;\n",
       "    }\n",
       "\n",
       "    .dataframe tbody tr th {\n",
       "        vertical-align: top;\n",
       "    }\n",
       "\n",
       "    .dataframe thead th {\n",
       "        text-align: right;\n",
       "    }\n",
       "</style>\n",
       "<table border=\"1\" class=\"dataframe\">\n",
       "  <thead>\n",
       "    <tr style=\"text-align: right;\">\n",
       "      <th></th>\n",
       "      <th>one</th>\n",
       "      <th>two</th>\n",
       "    </tr>\n",
       "  </thead>\n",
       "  <tbody>\n",
       "    <tr>\n",
       "      <td>a</td>\n",
       "      <td>NaN</td>\n",
       "      <td>NaN</td>\n",
       "    </tr>\n",
       "    <tr>\n",
       "      <td>b</td>\n",
       "      <td>4.071429</td>\n",
       "      <td>NaN</td>\n",
       "    </tr>\n",
       "    <tr>\n",
       "      <td>c</td>\n",
       "      <td>0.000000</td>\n",
       "      <td>0.000000</td>\n",
       "    </tr>\n",
       "    <tr>\n",
       "      <td>d</td>\n",
       "      <td>-0.894366</td>\n",
       "      <td>-0.711111</td>\n",
       "    </tr>\n",
       "  </tbody>\n",
       "</table>\n",
       "</div>"
      ],
      "text/plain": [
       "        one       two\n",
       "a       NaN       NaN\n",
       "b  4.071429       NaN\n",
       "c  0.000000  0.000000\n",
       "d -0.894366 -0.711111"
      ]
     },
     "execution_count": 155,
     "metadata": {},
     "output_type": "execute_result"
    }
   ],
   "source": [
    "# reductions or summary statistics [single value]\n",
    "data = [[1.4, np.nan],[7.1, -4.5],[np.nan, np.nan], [0.75, -1.3]]\n",
    "index = list('abcd')\n",
    "col=['one','two']\n",
    "df = pd.DataFrame(data=data, columns=col, index=index)\n",
    "\n",
    "df.sum()             # sum of rows, per col.\n",
    "df.sum(axis=0)       # sum of rows, per col.\n",
    "df.sum(axis=1)       # sum of cols, per row\n",
    "df.mean(skipna=True) # exclude NAs from agg. value\n",
    "\n",
    "df.count()      # number of non-NA values\n",
    "df.describe()   # summary stats, per col.\n",
    "df.max()        # max val, per col.\n",
    "df.min()        # min val, per col.\n",
    "df.idxmax()     # index label of max val, per col.\n",
    "df.idxmin()     # index label of min val, per col.\n",
    "df.sum()\n",
    "df.mean()\n",
    "df.median()\n",
    "df.mad()        # mean absolute deviation from mean value\n",
    "df.prod()       # product of row vals, per col\n",
    "df.var()        # sample variance of row vals, per col\n",
    "df.std()        # sample stdev of row values, per col\n",
    "df.skew()       # sample skewness of values, per col\n",
    "df.cumsum()     # cumsum down rows, per col\n",
    "df.cummax()     # cum. max down rows, per col\n",
    "df.cummin()     # cum. min down rows, per col\n",
    "df.diff()       # diff between n and n-1, per col.\n",
    "df.pct_change() # %diff between n and n-1, per col.\n"
   ]
  },
  {
   "cell_type": "markdown",
   "metadata": {},
   "source": [
    "### Unique Values, Value Counts, and Membership"
   ]
  },
  {
   "cell_type": "code",
   "execution_count": 172,
   "metadata": {},
   "outputs": [
    {
     "data": {
      "text/plain": [
       "array([0, 2, 1, 1, 0, 2])"
      ]
     },
     "execution_count": 172,
     "metadata": {},
     "output_type": "execute_result"
    }
   ],
   "source": [
    "# df.unique() - unique values in series\n",
    "ser = pd.Series(list('ababcdefeghi'))\n",
    "ser.unique() # array of unique values\n",
    "\n",
    "# df.value_counts() - n occurances per unique value\n",
    "ser.value_counts() # series; index=ser_vals, vals=count\n",
    "\n",
    "# df.isin(vals) - boolean mask\n",
    "ser.isin(list('abc')) # boolean T/F series\n",
    "\n",
    "# df.Index(uniq_vals).get_indexer(val_to_match) - index aray of possibly non-distinct values\n",
    "to_match = pd.Series(list('cabbca')) \n",
    "uniq_vals = pd.Series(list('cba'))\n",
    "\n",
    "pd.Index(uniq_vals).get_indexer(to_match) # [0,2,1,1,0,2]; [uniq_val] i=2 (a) found in position 1 and 5 [to_match]\n"
   ]
  },
  {
   "cell_type": "code",
   "execution_count": null,
   "metadata": {},
   "outputs": [],
   "source": []
  },
  {
   "cell_type": "code",
   "execution_count": null,
   "metadata": {},
   "outputs": [],
   "source": []
  }
 ],
 "metadata": {
  "kernelspec": {
   "display_name": "Python 3",
   "language": "python",
   "name": "python3"
  },
  "language_info": {
   "codemirror_mode": {
    "name": "ipython",
    "version": 3
   },
   "file_extension": ".py",
   "mimetype": "text/x-python",
   "name": "python",
   "nbconvert_exporter": "python",
   "pygments_lexer": "ipython3",
   "version": "3.7.4"
  }
 },
 "nbformat": 4,
 "nbformat_minor": 2
}
