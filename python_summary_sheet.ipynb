{
 "cells": [
  {
   "cell_type": "markdown",
   "metadata": {},
   "source": [
    "# Python Summary Guide\n",
    "\n",
    "Notes influenced by [cheatsheet](https://github.com/gto76/python-cheatsheet)\n",
    "\n",
    "## Collections:\n",
    "[List](#list)<br>\n",
    "[Dictionary](#dictionary)<br>\n",
    "[Set](#set)<br>\n",
    "\n",
    "## Data Types\n",
    "[Type](#type)<br>\n",
    "[String](#string)<br>\n",
    "[Formatting](#formatting)<br>"
   ]
  },
  {
   "cell_type": "code",
   "execution_count": 174,
   "metadata": {},
   "outputs": [],
   "source": [
    "import numpy as np\n",
    "import pandas as pd\n",
    "import itertools     # itertools.chain.from_iterable(lst) --> flatten list\n",
    "import functools     # functools.reduce(func, lst) --> product of elements\n",
    "import collections   # collections.defaultdict and collections.counter\n",
    "import re            # REGEX\n"
   ]
  },
  {
   "cell_type": "markdown",
   "metadata": {},
   "source": [
    "<p><a name='list'></a></p>\n",
    "\n",
    "# Collections\n",
    "## Lists\n",
    "- Ordered and changable values\n",
    "- May be heterogeneous (include numbers and characters)"
   ]
  },
  {
   "cell_type": "markdown",
   "metadata": {},
   "source": [
    "**Basics**"
   ]
  },
  {
   "cell_type": "code",
   "execution_count": 175,
   "metadata": {},
   "outputs": [
    {
     "data": {
      "text/plain": [
       "[1, 3, 5, 7]"
      ]
     },
     "execution_count": 175,
     "metadata": {},
     "output_type": "execute_result"
    }
   ],
   "source": [
    "lst = [*range(1,9)]\n",
    "nest_lst = list(zip(lst, sorted(lst, reverse=False))) # list of tuples [(10,0),(9,1),...]\n",
    "\n",
    "# Indexing/Slicing\n",
    "lst[1:6:2]          # lst[from_inclusive : to_exclusive : +- step]\n",
    "lst[2]              # slice el 2\n",
    "lst[-1]             # slice el starting at end\n",
    "lst[:2]             # slice 0 (inclusive) --> 2 (exclusive)\n",
    "lst[2:]             # slice el 2 (inclusive) --> end\n",
    "lst[2:-1]           # slide el 2 (inclusive) --> -1, last el (exclusive)\n",
    "lst[:-1]            # list in reverse\n",
    "lst[:-1:2]          # slice list in reverse, step=2\n"
   ]
  },
  {
   "cell_type": "markdown",
   "metadata": {},
   "source": [
    "**Methods**"
   ]
  },
  {
   "cell_type": "code",
   "execution_count": 176,
   "metadata": {},
   "outputs": [],
   "source": [
    "# Adding to lists\n",
    "add_el = lst.append(10)            # add el to end of list\n",
    "lst += [9]                         # add list to end of existing list\n",
    "add_lst = lst.extend([1,2,3,4])    # add list to end of existing list\n",
    "list_of_chars = list('string')     # splits string ['s', 't', 'r', 'i', 'n', 'g']\n",
    "\n",
    "# Flattening lists\n",
    "flatten_lst = [*itertools.chain.from_iterable(nest_lst)] # flatten list\n",
    "flatten_lst = sum( nest_lst, () )  # flatten list (must know internal data structure (tuple, set, list,)\n",
    "\n",
    "# Sorting lists\n",
    "lst.sort(reverse=False)              # .sort *mutates* list --> no return list\n",
    "sort_lst = sorted(lst,reverse=False) # sorted() returns list\n",
    "reversed(lst)                        # reversed sorted iterable obj\n",
    "sorted_by_one_el = sorted(nest_lst, key=lambda row: row[0])            # sort nest_lst by single el\n",
    "sorted_by_multi_el = sorted(nest_lst, key=lambda row: (row[0],row[1])) # sort by 1st el, if tie, sort by 2nd el\n",
    "\n",
    "# Arithmatics of List\n",
    "sum_of_els = sum(lst)                               # sum all elements in list\n",
    "elementwise_sum = [sum(pair) for pair in nest_lst]  # sum els per inner struct\n",
    "product_of_els = functools.reduce(lambda output, el: output*el, lst) # easier to use np.array.cumprod\n"
   ]
  },
  {
   "cell_type": "code",
   "execution_count": 177,
   "metadata": {},
   "outputs": [],
   "source": [
    "n_occur = lst.count(1)  # number of occurences (works for strings)\n",
    "\n",
    "idx = lst.index(1)            # index of *first* occurance\n",
    "np.where(np.array(lst)==1)[0] # must use array to find all indices of occurance\n",
    "\n",
    "lst.insert(5, 1000) # insert (index, val) in list\n",
    "\n",
    "el = lst.pop()  # removes/returns last value in list (mutates list)\n",
    "lst.remove(4)   # removes 1st occurance of VALUE (mutates)\n",
    "lst.clear()     # removes all items (mutates)"
   ]
  },
  {
   "cell_type": "markdown",
   "metadata": {},
   "source": [
    "**List Comprehension**\n",
    "- Improve efficiency of for-loops\n",
    "- May be used to create dictionaries and tuples\n"
   ]
  },
  {
   "cell_type": "code",
   "execution_count": 178,
   "metadata": {},
   "outputs": [],
   "source": [
    "# For loop to create list of squared values\n",
    "squares = []\n",
    "for x in range(10):\n",
    "    squares.append(x**2)\n",
    "    \n",
    "# Use .map to create list\n",
    "squares = list(map(lambda x: x**2, range(10)))\n",
    "\n",
    "# Use list comprehension to create list\n",
    "squares = [ x**2 for x in range(10) ]"
   ]
  },
  {
   "cell_type": "code",
   "execution_count": 179,
   "metadata": {},
   "outputs": [
    {
     "data": {
      "text/plain": [
       "[[0, 'Even'], [1, 'Odd'], [2, 'Even'], [3, 'Odd'], [4, 'Even']]"
      ]
     },
     "execution_count": 179,
     "metadata": {},
     "output_type": "execute_result"
    }
   ],
   "source": [
    "# Notation:\n",
    "[ [x,y] for x in range(2) for y in range(3) ]              # nested for-loop notation\n",
    "[ x for x in range(5) if x%2==0 ]                          # if-statement notation\n",
    "[ [x,'Even'] if x%2==0 else [x,'Odd'] for x in range(5) ] # if-else statement notation\n"
   ]
  },
  {
   "cell_type": "markdown",
   "metadata": {},
   "source": [
    "<p><a name='dictionary'></a></p>\n",
    "\n",
    "## Dictionary\n",
    "- Collect iof unordered, changeable, and indexed value\n",
    "- Ex: {key: [values]}\n"
   ]
  },
  {
   "cell_type": "markdown",
   "metadata": {},
   "source": [
    "**Basics**"
   ]
  },
  {
   "cell_type": "code",
   "execution_count": 180,
   "metadata": {},
   "outputs": [],
   "source": [
    "# Create dictionary\n",
    "keys = ['even','odd']\n",
    "values = [[*range(0,11,2)], [*range(1,11,2)]]\n",
    "dict_ = dict(zip(keys,values))                 # zip keys and values together\n",
    "\n",
    "dict_ = {'even': [*range(0,11,2)], \n",
    "         'odd':[*range(1,11,2)]}\n",
    "\n",
    "\n",
    "# Retrieve features of dictionary\n",
    "dict_.keys()       # return object containing all keys\n",
    "dict_.values()     # return object containing all values \n",
    "dict_.items()      # return tuple of (key, values)\n",
    "\n",
    "# Retrieve values of key\n",
    "dict_['even']      # return list of values\n",
    "dict_.get('even')  # return list of values\n",
    "\n",
    "# Set default value if key missing\n",
    "dict_.get('name','NoName')        # returns default value if key not found\n",
    "dict_.setdefault('name','NoName') # set default for dictionary\n",
    "dict_.get('name')                 # returns default value set previously\n",
    "\n",
    "# Update dictionary\n",
    "dict_.update({'odd': [*range(1,11,3)]}) # replace key with new values\n",
    "dict_.pop('odd')                        # remove key from dict\n",
    "dict_['odd'] = [*range(1,11,2)]         # add key and values to dict\n"
   ]
  },
  {
   "cell_type": "markdown",
   "metadata": {},
   "source": [
    "**collections.defaultdict()** - dict subclass that creates default value"
   ]
  },
  {
   "cell_type": "code",
   "execution_count": 181,
   "metadata": {},
   "outputs": [
    {
     "data": {
      "text/plain": [
       "1"
      ]
     },
     "execution_count": 181,
     "metadata": {},
     "output_type": "execute_result"
    }
   ],
   "source": [
    "from collections import defaultdict\n",
    "\n",
    "dict_ = defaultdict(int)       # default value data type\n",
    "dict_ = defaultdict(lambda: 1) # default value 1\n",
    "dict_['test']                  # returns 1 because 'test' not key\n"
   ]
  },
  {
   "cell_type": "markdown",
   "metadata": {},
   "source": [
    "**collections.counter** - dict subclass that counts occurance of unique values"
   ]
  },
  {
   "cell_type": "code",
   "execution_count": 182,
   "metadata": {},
   "outputs": [
    {
     "data": {
      "text/plain": [
       "[('blue', 3), ('red', 2), ('yellow', 1)]"
      ]
     },
     "execution_count": 182,
     "metadata": {},
     "output_type": "execute_result"
    }
   ],
   "source": [
    "from collections import Counter\n",
    "\n",
    "lst = ['blue', 'blue', 'blue', 'red', 'red', 'yellow']\n",
    "counter = Counter(lst) # dictionary of color \n",
    "counter.most_common()  # ordered tuple (color,count)\n"
   ]
  },
  {
   "cell_type": "markdown",
   "metadata": {},
   "source": [
    "<p><a name='set'></a></p>\n",
    "\n",
    "\n",
    "## Sets\n",
    "- unordered, unique elements containing immutable data \n",
    "- Sets may be modified"
   ]
  },
  {
   "cell_type": "code",
   "execution_count": 183,
   "metadata": {},
   "outputs": [],
   "source": [
    "setA = {1,2,3,4,3,2,5}    # create set {1, 2, 3, 4, 5}\n",
    "setB = set(range(2,12,2)) # create set {2, 4, 6, 8, 10}\n",
    "\n",
    "setA.add(6)     # add el\n",
    "setA |= {7}     # add el\n",
    "setA.update( [7,8,9,10] )  # add collection to set\n",
    "\n",
    "setA.union(setB)                # values in both A and B\n",
    "setA.intersection(setB)         # values in A found in B\n",
    "setA.difference(setB)           # values in A but not in B\n",
    "setA.symmetric_difference(setB) # values in A or B, but not both \n",
    "\n",
    "setA.issubset(setB)   # is A found in B\n",
    "setA.issuperset(setB) # is B found in A\n",
    "\n",
    "setA.pop()      # remove 1st val (mutates); returns val; raises error if missing\n",
    "setA.remove(6)  # remove val from set; raises error if missing\n",
    "setA.discard(6) # remove val; DOESN'T raise error if missing\n"
   ]
  },
  {
   "cell_type": "markdown",
   "metadata": {},
   "source": [
    "<p><a name='types'></a></p>\n",
    "\n",
    "# Object Types\n",
    "## Types\n",
    "- Everything in Python is an object\n",
    "- Every object has a type\n",
    "- Types synonymous with Class"
   ]
  },
  {
   "cell_type": "code",
   "execution_count": 184,
   "metadata": {},
   "outputs": [
    {
     "data": {
      "text/plain": [
       "True"
      ]
     },
     "execution_count": 184,
     "metadata": {},
     "output_type": "execute_result"
    }
   ],
   "source": [
    "type('str')               # return object type\n",
    "type([1,2,3])             # return object type\n",
    "isinstance([1,2,3], list) # bool; is object a data type\n"
   ]
  },
  {
   "cell_type": "markdown",
   "metadata": {},
   "source": [
    "<p><a name='string'></a></p>\n",
    "\n",
    "## Strings"
   ]
  },
  {
   "cell_type": "markdown",
   "metadata": {},
   "source": [
    "**Basics**"
   ]
  },
  {
   "cell_type": "code",
   "execution_count": 185,
   "metadata": {},
   "outputs": [
    {
     "data": {
      "text/plain": [
       "'JoXXXathan Andrew Harris'"
      ]
     },
     "execution_count": 185,
     "metadata": {},
     "output_type": "execute_result"
    }
   ],
   "source": [
    "# Creating a string\n",
    "A = ' Jonathan Andrew Harris '\n",
    "lines = 'This is line one.\\nThis is line 2.'\n",
    "\n",
    "# Stylize string\n",
    "A.lower()      # lowercase all char\n",
    "A.upper()      # capitalize all char\n",
    "A.capitalize() # 1st char in 1st word capitalized\n",
    "A.title()      # 1st char of all words capitalized\n",
    "\n",
    "# Remove leading/trailing whitespace and string\n",
    "A = A.strip()     # remove whitespace characters from both ends\n",
    "A.lstrip()        # remove whitespace from left end\n",
    "A.rstrip()        # remove whitespace from right end\n",
    "B = A.strip('t')  # remove characters from both ends\n",
    "\n",
    "# Split string into list of substrings\n",
    "A.split()                        # split str; default separator = ' '\n",
    "A.split(sep=',')                 # split str by separator\n",
    "A.split(sep=None, maxsplit=1)    # split n times\n",
    "lines.splitlines(keepends=False) # split on \\n,\\r,\\r\\n\n",
    "\n",
    "# Join list of strings into single string\n",
    "lst = ['This','is','a','list']\n",
    "''.join(lst)  # 'Thisisalist'\n",
    "' '.join(lst) # 'This is a list'\n",
    "'='.join(lst) # 'This=is=a=list'\n",
    "\n",
    "# Check if string contains substring\n",
    "'Harris' in A            # bool; 'substring in string'\n",
    "A.startswith('Jonathan') # bool; string.startswith(substring)\n",
    "A.endswith('Andrew')     # bool; string.endswith(substring)\n",
    "A.find('a')              # returns start index of 1st match, or -1\n",
    "A.index('a')             # same, but raises ValueError if missing \n",
    "\n",
    "# Replace characters within string\n",
    "A.replace('n', 'XXX', 1) # replace substring with new substring, n times\n"
   ]
  },
  {
   "cell_type": "markdown",
   "metadata": {},
   "source": [
    "**REGEX**"
   ]
  },
  {
   "cell_type": "code",
   "execution_count": 186,
   "metadata": {},
   "outputs": [
    {
     "data": {
      "text/plain": [
       "<re.Match object; span=(0, 2), match='jo'>"
      ]
     },
     "execution_count": 186,
     "metadata": {},
     "output_type": "execute_result"
    }
   ],
   "source": [
    "# Substitute substring with new substring\n",
    "pattern = r'an'\n",
    "new_substring = 'AN'\n",
    "string = A.lower()\n",
    "re.sub(pattern, new_substring, string, count=2) # substitute\n",
    "\n",
    "# Find all occurrences of substring\n",
    "re.findall(pattern, string) # ['an', 'an']\n",
    "re.finditer(pattern, string) # return iter object\n",
    "\n",
    "# Split string by substring\n",
    "test = 'bca bca bca bca '\n",
    "re.split(r'a ',test)      # ['bc', 'bc', 'bc', 'bc', '']\n",
    "\n",
    "# Determine if substring in string\n",
    "re.search(r'an', string) # match object; search for 1st occurance\n",
    "re.match(r'jo', string)  # match object; search only at beginning of string\n"
   ]
  },
  {
   "cell_type": "markdown",
   "metadata": {},
   "source": [
    "<p><a name='formatting'></a></p>\n",
    "\n",
    "## Formatting"
   ]
  },
  {
   "cell_type": "markdown",
   "metadata": {},
   "source": [
    "**Strings**"
   ]
  },
  {
   "cell_type": "code",
   "execution_count": 187,
   "metadata": {
    "scrolled": true
   },
   "outputs": [
    {
     "data": {
      "text/plain": [
       "'...abca...'"
      ]
     },
     "execution_count": 187,
     "metadata": {},
     "output_type": "execute_result"
    }
   ],
   "source": [
    "'{0}'.format('abca')      # just str, no additional space\n",
    "'{0:<10}'.format('abca')  # n char long, str on left;  'abca      '\n",
    "'{0:>10}'.format('abca')  # n char long, str on right;  '      abca'\n",
    "'{0:^10}'.format('abca')  # n char long, str in middle;  '      abca'\n",
    "'{0:.^10}'.format('abca') # add char instead of white space; '...abca...'\n"
   ]
  },
  {
   "cell_type": "markdown",
   "metadata": {},
   "source": [
    "**Numbers**"
   ]
  },
  {
   "cell_type": "code",
   "execution_count": 188,
   "metadata": {},
   "outputs": [
    {
     "data": {
      "text/plain": [
       "'+123,456'"
      ]
     },
     "execution_count": 188,
     "metadata": {},
     "output_type": "execute_result"
    }
   ],
   "source": [
    "'{0:10,}'.format(123456)  # add white space\n",
    "'{0:,}'.format(123456)    # add , where appropriate; '123,456'\n",
    "'{0:+,}'.format(123456)   # add char before number; '+123,456'\n"
   ]
  },
  {
   "cell_type": "markdown",
   "metadata": {},
   "source": [
    "**Floats**"
   ]
  },
  {
   "cell_type": "code",
   "execution_count": 189,
   "metadata": {},
   "outputs": [
    {
     "data": {
      "text/plain": [
       "'123.456%'"
      ]
     },
     "execution_count": 189,
     "metadata": {},
     "output_type": "execute_result"
    }
   ],
   "source": [
    "# Truncate by significant figures {0:.n}\n",
    "'{0:.3}'.format(1.23456)    # truncate to 3 sigfigs; '1.23'\n",
    "'{0:10.3}'.format(1.23456)  # n char long, add white space; '      1.23' \n",
    "\n",
    "# Specify n decimal places {0:.nf}\n",
    "'{0:.3f}'.format(1.23456)   # 3 decimal places; '1.235'\n",
    "\n",
    "# Convert to scientific notation {0:.ne}\n",
    "'{0:.3e}'.format(1.23456)   # 3 decimal places, sci-not; '1.235e+00'\n",
    "\n",
    "# Convert to percentage {0:.n%} -- multiply by 100\n",
    "'{0:.3%}'.format(1.23456)   # 3 decimal places, sci-not; '123.456%'\n"
   ]
  },
  {
   "cell_type": "code",
   "execution_count": null,
   "metadata": {},
   "outputs": [],
   "source": []
  }
 ],
 "metadata": {
  "kernelspec": {
   "display_name": "Python 3",
   "language": "python",
   "name": "python3"
  },
  "language_info": {
   "codemirror_mode": {
    "name": "ipython",
    "version": 3
   },
   "file_extension": ".py",
   "mimetype": "text/x-python",
   "name": "python",
   "nbconvert_exporter": "python",
   "pygments_lexer": "ipython3",
   "version": "3.7.4"
  }
 },
 "nbformat": 4,
 "nbformat_minor": 2
}
