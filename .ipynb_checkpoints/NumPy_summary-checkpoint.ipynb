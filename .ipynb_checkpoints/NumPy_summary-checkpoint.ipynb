{
 "cells": [
  {
   "cell_type": "markdown",
   "metadata": {},
   "source": [
    "# NumPY Review\n",
    "- NumPy arrays and array-oriented computing\n",
    "\n",
    "\n",
    "1. Creating Arrays\n",
    "2. Describing Arrays\n",
    "3. Basic Functions\n",
    "4. Aggregate Math Functions\n",
    "5. Sorting Arrays\n",
    "6. Unique and Logic Set\n",
    "7. Linear Algebra\n",
    "8. Array-Oriented Programming (avoid for-loops)"
   ]
  },
  {
   "cell_type": "code",
   "execution_count": 347,
   "metadata": {},
   "outputs": [],
   "source": [
    "# Import module\n",
    "import numpy as np\n",
    "import matplotlib.pyplot as plt"
   ]
  },
  {
   "cell_type": "markdown",
   "metadata": {},
   "source": [
    "### Creating Arrays"
   ]
  },
  {
   "cell_type": "code",
   "execution_count": 325,
   "metadata": {},
   "outputs": [
    {
     "data": {
      "text/plain": [
       "array([[1., 0., 0., 0., 0.],\n",
       "       [0., 1., 0., 0., 0.],\n",
       "       [0., 0., 1., 0., 0.],\n",
       "       [0., 0., 0., 1., 0.],\n",
       "       [0., 0., 0., 0., 1.]])"
      ]
     },
     "execution_count": 325,
     "metadata": {},
     "output_type": "execute_result"
    }
   ],
   "source": [
    "# Array Creation Functions\n",
    "arr = np.array(list([0,1,2,3,4])) # create array from list\n",
    "arr = np.array(range(5))          # create array from range object [0-4]\n",
    "arr = np.arange(5)                # create array from range\n",
    "\n",
    "np.random.randint(2,3) # 2x3 array of random numbers\n",
    "np.zeros((3,6))        # 3x6 array of zeros\n",
    "np.zeros_like(arr)     # 0s array of same shape as input arr\n",
    "np.ones((2,5))         # 2x5 array of ones\n",
    "np.ones_like(arr)      # 1s array of same shape as input arr\n",
    "np.eye(5)              # nxn identity matrix (1s on diagonal)\n"
   ]
  },
  {
   "cell_type": "code",
   "execution_count": 451,
   "metadata": {},
   "outputs": [
    {
     "data": {
      "text/plain": [
       "array([ 0,  5, 10,  1,  6, 11,  2,  7, 12,  3,  8, 13,  4,  9, 14])"
      ]
     },
     "execution_count": 451,
     "metadata": {},
     "output_type": "execute_result"
    }
   ],
   "source": [
    "# Reshaping Arrays\n",
    "arr = np.arange(15) # [0-14]\n",
    "\n",
    "arr.reshape((5,-1))         # reshape array [5x3] *numpy infers second dimension\n",
    "arr2d = arr.reshape((3,5))  # reshape array [1x15] -> [3x5] array\n",
    "arr2d.T                     # transpose array [0,2][1,3]\n",
    "\n",
    "arr2d.ravel()               # flatten n-D to 1D BY ROW *changes to ravel output affects original arr2d\n",
    "arr2d.flatten()             # flatten n-D to 1D BY ROW *changes do not affect original arr2d\n",
    "arr2d.ravel('F')    # flatten BY COLUMN\n",
    "arr2d.flatten('F')  # flatten BY COLUMN\n"
   ]
  },
  {
   "cell_type": "code",
   "execution_count": 500,
   "metadata": {},
   "outputs": [
    {
     "data": {
      "text/plain": [
       "[array([[1, 2, 3]]), array([[4, 5, 6]])]"
      ]
     },
     "execution_count": 500,
     "metadata": {},
     "output_type": "execute_result"
    }
   ],
   "source": [
    "# Concatenating Arrays\n",
    "x = np.array([[1,2,3],[4,5,6]])      # [2x3]\n",
    "y = np.array([[7,8,9],[10,11,12]])   # [2x3]\n",
    "\n",
    "np.concatenate([x,y,x], axis=0) # stack vertically [6x3]\n",
    "np.vstack((x,y,x))              # stack vertically [6x3]\n",
    "np.row_stack((x,y,x))           # stack vertically [6x3]\n",
    "\n",
    "np.concatenate([x,y,x], axis=1) # stack horizontally [2x9]\n",
    "np.hstack((x,y,y))              # stack horizonatally [2x9]\n",
    "np.column_stack((x,y))          # stack horizonatally [2x9]\n",
    "\n",
    "np.dstack((x,y))                # stack depth-wise [2x3x2]\n",
    "\n",
    "np.split(x, [1,2], axis=1)      # list of split arrays split apart array a=[1][2]; b=[2][5]; c=[3][6]\n",
    "np.hsplit(x, 3)                 # split array by columns\n",
    "np.vsplit(x, 2)                 # split array by rows output = [array([[1, 2, 3]]), array([[4, 5, 6]])]\n"
   ]
  },
  {
   "cell_type": "code",
   "execution_count": 534,
   "metadata": {},
   "outputs": [
    {
     "data": {
      "text/plain": [
       "array([[0, 1, 0, 1],\n",
       "       [2, 3, 2, 3]])"
      ]
     },
     "execution_count": 534,
     "metadata": {},
     "output_type": "execute_result"
    }
   ],
   "source": [
    "# Repeating Elements or Arrays\n",
    "x = np.arange(4).reshape((2,-1)) # [2x2] array         ex: [0,1][2,3]\n",
    "y = np.arange(4)                 # [1x4] array         ex: [0,1,2,3]\n",
    "\n",
    "y.repeat([1,2,3,1]) # repeat el 1,2,3,1 times          ex: [0, 1, 1, 2, 2, 2, 3]\n",
    "x.repeat(2, axis=0) # repeat rows n times [4x2]        ex: [[0,1],[0,1],[2,3],[2,3]]\n",
    "x.repeat(2, axis=1) # repeat cols n times [2x4]        ex: [[0, 0, 1, 1],[2, 2, 3, 3]]\n",
    "\n",
    "np.tile(x, 2)       # repeat array horizonatally [2x4] ex: [[0, 1, 0, 1],[2, 3, 2, 3]]\n",
    "\n"
   ]
  },
  {
   "cell_type": "markdown",
   "metadata": {},
   "source": [
    "### Describing Arrays"
   ]
  },
  {
   "cell_type": "code",
   "execution_count": 327,
   "metadata": {},
   "outputs": [
    {
     "data": {
      "text/plain": [
       "array([[0, 1],\n",
       "       [2, 3]], dtype=int32)"
      ]
     },
     "execution_count": 327,
     "metadata": {},
     "output_type": "execute_result"
    }
   ],
   "source": [
    "# Description of array\n",
    "arr.ndim             # array dimension\n",
    "arr.shape            # array shape\n",
    "arr.dtype            # array datatype\n",
    "arr.astype(np.int32) # change array dtype\n"
   ]
  },
  {
   "cell_type": "markdown",
   "metadata": {},
   "source": [
    "### Indexing and Slicing"
   ]
  },
  {
   "cell_type": "code",
   "execution_count": 328,
   "metadata": {},
   "outputs": [
    {
     "data": {
      "text/plain": [
       "0"
      ]
     },
     "execution_count": 328,
     "metadata": {},
     "output_type": "execute_result"
    }
   ],
   "source": [
    "# Basic indexing\n",
    "arr = np.arange(10) # np.array [0,1,2,3,4,5,6,7,8]\n",
    "arr[5:8]   # 6th-8th element [5,6,7]\n",
    "arr[:] = 7 # assign val to all elements\n",
    "\n",
    "arr2d = np.arange(9).reshape(3,3) # 3x3 array [[0,1,2][3,4,5][6,7,8]]\n",
    "arr2d[0][0] # n=0, m=0 element\n",
    "arr2d[0,0]  # n=0, m=0 element\n"
   ]
  },
  {
   "cell_type": "code",
   "execution_count": 329,
   "metadata": {},
   "outputs": [
    {
     "data": {
      "text/plain": [
       "array([[1, 2],\n",
       "       [4, 5]])"
      ]
     },
     "execution_count": 329,
     "metadata": {},
     "output_type": "execute_result"
    }
   ],
   "source": [
    "# Index Slicing\n",
    "arr2d[2]       # row=2 (3rd row, includes all columns) [6,7,8]\n",
    "arr2d[2,:]     # row=2, all cols [6,7,8]\n",
    "arr2d[2:,:]    # row=2+ (only have 3 rows), all cols [6,7,8]\n",
    "\n",
    "arr2d[:,:2]    # all rows; col<2 (1st and 2nd col) [1,2][4,5]\n",
    "arr2d[1,:2]    # row=1, col<2 [3,4]\n",
    "arr2d[1:2, :2] # row=1, col<2 [3,4]\n",
    "arr2d[:2, 1:]    # row=0-1, col= 1-2 [1,2][4,5] \n"
   ]
  },
  {
   "cell_type": "code",
   "execution_count": 330,
   "metadata": {},
   "outputs": [],
   "source": [
    "# Boolean slicing\n",
    "names = np.array(['Jon', 'Tamar','Jordan', 'Ondine', 'Jon', 'Tamar','Jordan', 'Ondine'])\n",
    "names=='Jon'                             # arr of boolean T/F\n",
    "names[ names=='Jon' ]                    # slice True values\n",
    "names[ names!='Jon' ]                    # slice False values\n",
    "names[ (names!='Jon')&(names!='Tamar') ] # slice by multiple conditions\n",
    "names[ names=='Jon' ] = 'TEST'           # replace values by condition \n"
   ]
  },
  {
   "cell_type": "code",
   "execution_count": 331,
   "metadata": {},
   "outputs": [
    {
     "data": {
      "text/plain": [
       "array([ 0,  5, 10])"
      ]
     },
     "execution_count": 331,
     "metadata": {},
     "output_type": "execute_result"
    }
   ],
   "source": [
    "# Fancy Indexing - indexing subset using integer arrays\n",
    "arr = np.arange(32).reshape((8,4)) # [8x4] 0-31\n",
    "    \n",
    "arr[[4,4,3,0]]                     # slice (4,:)(4,:)(3,:)(0,:)\n",
    "arr[[-3,-2,-1]]                    # slice (-1,:) same as (7,:) or last row\n",
    "arr[[0,1,2],[0,1,2]]               # slice (0,0)(1,1)(2,2)\n"
   ]
  },
  {
   "cell_type": "code",
   "execution_count": null,
   "metadata": {},
   "outputs": [],
   "source": []
  },
  {
   "cell_type": "code",
   "execution_count": null,
   "metadata": {},
   "outputs": [],
   "source": []
  },
  {
   "cell_type": "code",
   "execution_count": null,
   "metadata": {},
   "outputs": [],
   "source": []
  },
  {
   "cell_type": "code",
   "execution_count": null,
   "metadata": {},
   "outputs": [],
   "source": []
  },
  {
   "cell_type": "markdown",
   "metadata": {},
   "source": [
    "### Basic Functions"
   ]
  },
  {
   "cell_type": "code",
   "execution_count": 332,
   "metadata": {},
   "outputs": [
    {
     "data": {
      "text/plain": [
       "array([1, 1, 1, 1, 1, 1, 1, 1])"
      ]
     },
     "execution_count": 332,
     "metadata": {},
     "output_type": "execute_result"
    }
   ],
   "source": [
    "# Unary functions - applied to each element\n",
    "x = np.random.randint(1,10,size=8) # size=n between 1,10\n",
    "y = np.random.randint(1,10,size=8) # size=n between 1,10\n",
    "\n",
    "np.abs(x)        # abs(el)\n",
    "np.sqrt(x)       # el**0.5\n",
    "np.square(x)     # el**2\n",
    "np.exp(x)        # e**el\n",
    "np.negative(y)   # -el\n",
    "np.ceil(x)       # floor(el)\n",
    "np.floor(x)      # ceil(el)\n",
    "np.isnan(x)      # isnan(el)\n",
    "np.rint(x)       # round(el) to nearest int\n",
    "np.sign(x)       # sign of el (-1, 0, or 1)\n"
   ]
  },
  {
   "cell_type": "code",
   "execution_count": 333,
   "metadata": {
    "scrolled": true
   },
   "outputs": [
    {
     "data": {
      "text/plain": [
       "array([ True,  True,  True,  True,  True,  True,  True,  True])"
      ]
     },
     "execution_count": 333,
     "metadata": {},
     "output_type": "execute_result"
    }
   ],
   "source": [
    "# Binary (two inputs) universal functions\n",
    "\n",
    "np.add(x,y)            # add el in 1st array to el in 2nd array\n",
    "np.subtract(x,y)       # subtract el in 1st array to el in 2nd array\n",
    "np.multiply(x,y)       # multiply el in 1st array to el in 2nd array\n",
    "np.divide(x,y)         # divide el in 1st array to el in 2nd array\n",
    "np.floor_divide(x,y)   # int of el in 1st array / el in 2nd array [5//2=2]\n",
    "np.mod(x,y)            # remainder of el in 1st array / el in 2nd array [5%2=1]\n",
    "\n",
    "np.power(x,y)          # raise el in 1st array to power of 2nd array el\n",
    "np.maximum(x,y)        # find element-wise maximum value between x and y\n",
    "np.minimum(x,y)        # find element-wise minimum value between x and y\n",
    "np.copysign(x,y)       # copy el sign in 1st array to el of 2nd array\n",
    "np.greater(x,y)        # el-wise comparisons [boolean array]\n",
    "np.greater_equal(x,y)  # el-wise comparisons [boolean array]\n",
    "np.less(x,y)           # el-wise comparisons [boolean array]\n",
    "np.less_equal(x,y)     # el-wise comparisons [boolean array]\n",
    "np.equal(x,y)          # el-wise comparisons [boolean array]\n",
    "np.not_equal(x,y)      # el-wise comparisons [boolean array]"
   ]
  },
  {
   "cell_type": "markdown",
   "metadata": {},
   "source": [
    "### Aggregative Math Functions"
   ]
  },
  {
   "cell_type": "code",
   "execution_count": 569,
   "metadata": {},
   "outputs": [
    {
     "data": {
      "text/plain": [
       "array([24, 24, 23, 24, 10])"
      ]
     },
     "execution_count": 569,
     "metadata": {},
     "output_type": "execute_result"
    }
   ],
   "source": [
    "arr = np.random.randint(1,10, size=20).reshape((4,5)) #[4x5] val between 1-10\n",
    "\n",
    "arr.sum()       # sum of all el\n",
    "arr.mean()      # avg of all el\n",
    "arr.std()       # stdev of all el\n",
    "arr.var()       # var of all el\n",
    "arr.max()       # max of all el\n",
    "arr.min()       # min of all el\n",
    "arr.argmax()    # index of max el\n",
    "arr.argmin()    # index of min el\n",
    "arr.cumsum()    # rolling sum of el starting at 0 [1D array]\n",
    "arr.cumprod()   # rolling products of el starting at 1 [1D array]\n",
    "\n",
    "\n",
    "# Aggregate across columns and rows (works for previous functions)\n",
    "arr.sum(axis=0) # sum across columns [1x5]\n",
    "arr.sum(axis=1) # sum across rows [1x4] \n",
    "\n",
    "# Aggregate by row or column \n",
    "np.add.reduce(arr)\n"
   ]
  },
  {
   "cell_type": "markdown",
   "metadata": {},
   "source": [
    "### Broadcasting\n",
    "- Describes how arithmetic works between arrays of different shapes\n",
    "- Ex: arr * 4 -> scalar has been broadcasted to all other elements"
   ]
  },
  {
   "cell_type": "code",
   "execution_count": 545,
   "metadata": {},
   "outputs": [
    {
     "data": {
      "text/plain": [
       "array([[ 0.5 , -0.75, -2.5 ],\n",
       "       [-0.5 ,  3.25,  1.5 ],\n",
       "       [ 0.5 , -1.75,  0.5 ],\n",
       "       [-0.5 , -0.75,  0.5 ]])"
      ]
     },
     "execution_count": 545,
     "metadata": {},
     "output_type": "execute_result"
    }
   ],
   "source": [
    "# Ex: Subtract column means from each element in a column\n",
    "\n",
    "arr = np.random.randint(1,10, size=12).reshape((4,3)) # [4x3] array\n",
    "c_avg = arr.mean(axis=0)                              # [1x3] avg of each col\n",
    "arr - c_avg                                           # [4x3] broadcast subtraction of mean to each el per col\n"
   ]
  },
  {
   "cell_type": "markdown",
   "metadata": {},
   "source": [
    "### Sorting arrays"
   ]
  },
  {
   "cell_type": "code",
   "execution_count": 335,
   "metadata": {},
   "outputs": [],
   "source": [
    "# Sorting Arrays\n",
    "arr = np.random.randint(1,10, size=20).reshape((4,5)) #[4x5] val between 1-10\n",
    "\n",
    "arr.sort(axis=1) # sort el ASC per rows\n",
    "arr.sort(axis=1) # sort el DESC per rows\n",
    "arr.sort(axis=0) # sort el ASC per columns\n",
    "arr.sort(axis=-0) # sort el DESC per columns\n"
   ]
  },
  {
   "cell_type": "code",
   "execution_count": 555,
   "metadata": {},
   "outputs": [
    {
     "data": {
      "text/plain": [
       "[('Arnold', 'Jane'),\n",
       " ('Arnold', 'Steve'),\n",
       " ('Jones', 'Bill'),\n",
       " ('Jones', 'Bob'),\n",
       " ('Walters', 'Barbara')]"
      ]
     },
     "execution_count": 555,
     "metadata": {},
     "output_type": "execute_result"
    }
   ],
   "source": [
    "# Indirect Sorting \n",
    "values = np.array([5,0,1,3,2])    # [1x5] array\n",
    "\n",
    "# argsort = return indices of sorted values\n",
    "idx = values.argsort(axis=0)      # indices of sorted value ASC     ex: [1, 2, 4, 3, 0]\n",
    "values[idx]                       # indirectly sorted values array  ex: [5,0,1,3,2]\n",
    "\n",
    "# lexsort = sort on multiple key arrays\n",
    "first_name = np.array( ['Bob', 'Jane', 'Steve', 'Bill', 'Barbara'] )\n",
    "last_name = np.array( ['Jones', 'Arnold', 'Arnold', 'Jones', 'Walters'] )\n",
    "\n",
    "sorter = np.lexsort( (first_name, last_name) ) # indices of sorting of multiple columns\n",
    "list(zip( last_name[sorter], first_name[sorter] ))\n"
   ]
  },
  {
   "cell_type": "markdown",
   "metadata": {},
   "source": [
    "### Unique and Set Logic"
   ]
  },
  {
   "cell_type": "code",
   "execution_count": 336,
   "metadata": {},
   "outputs": [
    {
     "data": {
      "text/plain": [
       "array([ 1,  2,  7,  8, 10, 11, 13])"
      ]
     },
     "execution_count": 336,
     "metadata": {},
     "output_type": "execute_result"
    }
   ],
   "source": [
    "x = np.random.randint(1,10, size=20).reshape((4,5)) #[4x5] val between 1-10\n",
    "y = np.random.randint(1,20, size=20).reshape((4,5)) #[4x5] val between 1-10\n",
    "\n",
    "np.unique(x)        # sorted unique values in array\n",
    "np.intersect1d(x,y) # sorted vals in both x and y\n",
    "np.union1d(x,y)     # sorted vals in all x and y\n",
    "np.in1d(x,y)        # boolean of x el found in y\n",
    "np.setdiff1d(x,y)   # sorted vals in x, but not in y\n",
    "np.setxor1d(x,y)    # sorted vals in either x or y, but not in both \n"
   ]
  },
  {
   "cell_type": "markdown",
   "metadata": {},
   "source": [
    "### Linear Algebra"
   ]
  },
  {
   "cell_type": "code",
   "execution_count": 337,
   "metadata": {},
   "outputs": [
    {
     "data": {
      "text/plain": [
       "6"
      ]
     },
     "execution_count": 337,
     "metadata": {},
     "output_type": "execute_result"
    }
   ],
   "source": [
    "# General linear algebra\n",
    "x = np.array([[1,2,3],[4,5,6]])       # 2x3 array\n",
    "y = np.array([[6,23],[-1,7],[8,9]])   # 3x2 array\n",
    "\n",
    "np.dot(x,y)     # matrix dot product\n",
    "np.diag(x, k=1) # diag or offset (by k) diag of matrix k=0 [1,5]; k=1 [2,6]\n",
    "np.trace(x)     # sum of diag\n"
   ]
  },
  {
   "cell_type": "markdown",
   "metadata": {},
   "source": [
    "### Array-Oriented Programming\n",
    "- Avoid loops by expressing as array -> **vectorization**"
   ]
  },
  {
   "cell_type": "code",
   "execution_count": 338,
   "metadata": {},
   "outputs": [],
   "source": [
    "# np.meshgrid = calculation across every combination of numbers in arrays\n",
    "\n",
    "points = [0,1,2] # 3 values\n",
    "xs, ys = np.meshgrid(points,points) #xs = ys = [[0,1,2][0,1,2][0,1,2]] \n",
    "z = np.sqrt(xs**2 + ys**2) # calculate every combination of x and y\n"
   ]
  },
  {
   "cell_type": "code",
   "execution_count": 339,
   "metadata": {},
   "outputs": [
    {
     "data": {
      "text/plain": [
       "array([[ 2,  2, -2,  2],\n",
       "       [ 2, -2, -2,  2],\n",
       "       [-2,  2, -2, -2],\n",
       "       [ 2, -2,  2,  2]])"
      ]
     },
     "execution_count": 339,
     "metadata": {},
     "output_type": "execute_result"
    }
   ],
   "source": [
    "# np.where(cond,arg1, arg2) = vectorized if condition else y expression\n",
    "\n",
    "arr = np.random.randn(4,4)\n",
    "np.where(arr>0, 2, -2) #if arr>0: el=2, else: el=-2"
   ]
  },
  {
   "cell_type": "code",
   "execution_count": null,
   "metadata": {},
   "outputs": [],
   "source": []
  },
  {
   "cell_type": "markdown",
   "metadata": {},
   "source": [
    "## Example: Simulating Random Walks\n",
    "Random walk starts at 0 (sealevel) with steps of 1 and -1 occuring"
   ]
  },
  {
   "cell_type": "code",
   "execution_count": 384,
   "metadata": {},
   "outputs": [
    {
     "data": {
      "text/plain": [
       "[<matplotlib.lines.Line2D at 0x7fc6467bbe90>]"
      ]
     },
     "execution_count": 384,
     "metadata": {},
     "output_type": "execute_result"
    },
    {
     "data": {
      "image/png": "[encoded data removed]",
      "text/plain": [
       "<Figure size 432x288 with 1 Axes>"
      ]
     },
     "metadata": {
      "needs_background": "light"
     },
     "output_type": "display_data"
    }
   ],
   "source": [
    "# Pythonic approach of simulating random walk\n",
    "position = 0\n",
    "walk = [position]\n",
    "steps = 1000\n",
    "\n",
    "for i in range(steps):\n",
    "    step = 1 if np.random.randint(0,2) else -1\n",
    "    position += step\n",
    "    walk.append(position)\n",
    "    \n",
    "plt.plot(walk)"
   ]
  },
  {
   "cell_type": "code",
   "execution_count": 417,
   "metadata": {},
   "outputs": [
    {
     "name": "stdout",
     "output_type": "stream",
     "text": [
      "Number of Steps: 229\n"
     ]
    },
    {
     "data": {
      "text/plain": [
       "[<matplotlib.lines.Line2D at 0x7fc644ab5390>]"
      ]
     },
     "execution_count": 417,
     "metadata": {},
     "output_type": "execute_result"
    },
    {
     "data": {
      "image/png": "[encoded data removed]",
      "text/plain": [
       "<Figure size 432x288 with 1 Axes>"
      ]
     },
     "metadata": {
      "needs_background": "light"
     },
     "output_type": "display_data"
    }
   ],
   "source": [
    "# Simulate Single Walk\n",
    "nsteps = 1000\n",
    "draws = np.random.randint(0, 2, size=nsteps)\n",
    "steps = np.where(draws>0, 1, -1)\n",
    "walk = steps.cumsum()\n",
    "cross = (np.abs(walk)>=10).argmax()\n",
    "\n",
    "print('Number of Steps: {}'.format(cross))\n",
    "plt.plot(walk)\n",
    "plt.plot(cross,walk[cross], marker='x', color='red')"
   ]
  },
  {
   "cell_type": "code",
   "execution_count": null,
   "metadata": {},
   "outputs": [],
   "source": []
  },
  {
   "cell_type": "code",
   "execution_count": null,
   "metadata": {},
   "outputs": [],
   "source": []
  },
  {
   "cell_type": "code",
   "execution_count": null,
   "metadata": {},
   "outputs": [],
   "source": []
  },
  {
   "cell_type": "code",
   "execution_count": null,
   "metadata": {},
   "outputs": [],
   "source": []
  },
  {
   "cell_type": "code",
   "execution_count": null,
   "metadata": {},
   "outputs": [],
   "source": []
  },
  {
   "cell_type": "code",
   "execution_count": null,
   "metadata": {},
   "outputs": [],
   "source": []
  },
  {
   "cell_type": "code",
   "execution_count": null,
   "metadata": {},
   "outputs": [],
   "source": []
  },
  {
   "cell_type": "code",
   "execution_count": null,
   "metadata": {},
   "outputs": [],
   "source": []
  },
  {
   "cell_type": "code",
   "execution_count": null,
   "metadata": {},
   "outputs": [],
   "source": []
  },
  {
   "cell_type": "code",
   "execution_count": null,
   "metadata": {},
   "outputs": [],
   "source": []
  },
  {
   "cell_type": "code",
   "execution_count": null,
   "metadata": {},
   "outputs": [],
   "source": []
  },
  {
   "cell_type": "code",
   "execution_count": null,
   "metadata": {},
   "outputs": [],
   "source": []
  },
  {
   "cell_type": "code",
   "execution_count": null,
   "metadata": {},
   "outputs": [],
   "source": []
  },
  {
   "cell_type": "code",
   "execution_count": null,
   "metadata": {},
   "outputs": [],
   "source": []
  },
  {
   "cell_type": "code",
   "execution_count": null,
   "metadata": {},
   "outputs": [],
   "source": []
  }
 ],
 "metadata": {
  "kernelspec": {
   "display_name": "Python 3",
   "language": "python",
   "name": "python3"
  },
  "language_info": {
   "codemirror_mode": {
    "name": "ipython",
    "version": 3
   },
   "file_extension": ".py",
   "mimetype": "text/x-python",
   "name": "python",
   "nbconvert_exporter": "python",
   "pygments_lexer": "ipython3",
   "version": "3.7.4"
  }
 },
 "nbformat": 4,
 "nbformat_minor": 2
}
