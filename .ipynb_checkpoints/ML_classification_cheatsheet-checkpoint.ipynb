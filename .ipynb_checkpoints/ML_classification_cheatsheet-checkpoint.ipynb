{
 "cells": [
  {
   "cell_type": "markdown",
   "metadata": {},
   "source": [
    "# Supervised ML Classification Cheetsheet\n",
    "\n",
    "Brief summary: [link](https://builtin.com/data-science/supervised-machine-learning-classification)\n",
    "\n",
    "1. [K-Nearest Neighbor Classification](#knn)<br>\n",
    "2. [Logistic Regression](#logistic)<br>\n",
    "3. [Support Vector Machine Classification](#svm)<br>\n",
    "4. [Naive Bayes Classification](#naive)<br>\n",
    "5. [Random Forrest Classification](#rforrest)<br>\n",
    "6. [XGradientBoost Classification](#xgboost)"
   ]
  },
  {
   "cell_type": "code",
   "execution_count": null,
   "metadata": {},
   "outputs": [],
   "source": []
  }
 ],
 "metadata": {
  "kernelspec": {
   "display_name": "Python 3",
   "language": "python",
   "name": "python3"
  },
  "language_info": {
   "codemirror_mode": {
    "name": "ipython",
    "version": 3
   },
   "file_extension": ".py",
   "mimetype": "text/x-python",
   "name": "python",
   "nbconvert_exporter": "python",
   "pygments_lexer": "ipython3",
   "version": "3.7.4"
  }
 },
 "nbformat": 4,
 "nbformat_minor": 2
}
