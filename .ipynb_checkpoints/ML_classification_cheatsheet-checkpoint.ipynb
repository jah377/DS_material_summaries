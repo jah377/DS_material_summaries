{
 "cells": [
  {
   "cell_type": "markdown",
   "metadata": {},
   "source": [
    "# Supervised ML Classification Cheetsheet\n",
    "\n",
    "Brief summary: [link](https://builtin.com/data-science/supervised-machine-learning-classification)\n",
    "\n",
    "1. [Logistic Regression](#logistic)<br>\n",
    "2. [Random Forrest Classification](#rforrest)<br>\n",
    "3. [XGradientBoost Classification](#xgboost)\n",
    "4. [Naive Bayes Classification](#naive)<br>\n"
   ]
  },
  {
   "cell_type": "code",
   "execution_count": 88,
   "metadata": {},
   "outputs": [],
   "source": [
    "# Load general modules\n",
    "import numpy as np\n",
    "import pandas as pd\n",
    "import seaborn as sns\n",
    "import matplotlib.pyplot as plt\n",
    "\n",
    "%matplotlib inline\n",
    "\n",
    "# Display all rows and columns\n",
    "pd.set_option( 'display.max_columns', None )\n",
    "\n",
    "# Supress warnings\n",
    "import warnings\n",
    "warnings.filterwarnings( 'ignore' )\n"
   ]
  },
  {
   "cell_type": "code",
   "execution_count": 89,
   "metadata": {
    "scrolled": false
   },
   "outputs": [
    {
     "name": "stdout",
     "output_type": "stream",
     "text": [
      ".. _breast_cancer_dataset:\n",
      "\n",
      "Breast cancer wisconsin (diagnostic) dataset\n",
      "--------------------------------------------\n",
      "\n",
      "**Data Set Characteristics:**\n",
      "\n",
      "    :Number of Instances: 569\n",
      "\n",
      "    :Number of Attributes: 30 numeric, predictive attributes and the class\n",
      "\n",
      "    :Attribute Information:\n",
      "        - radius (mean of distances from center to points on the perimeter)\n",
      "        - texture (standard deviation of gray-scale values)\n",
      "        - perimeter\n",
      "        - area\n",
      "        - smoothness (local variation in radius lengths)\n",
      "        - compactness (perimeter^2 / area - 1.0)\n",
      "        - concavity (severity of concave portions of the contour)\n",
      "        - concave points (number of concave portions of the contour)\n",
      "        - symmetry \n",
      "        - fractal dimension (\"coastline approximation\" - 1)\n",
      "\n",
      "        The mean, standard error, and \"worst\" or largest (mean of the three\n",
      "        largest values) of these features were computed for each image,\n",
      "        resulting in 30 features.  For instance, field 3 is Mean Radius, field\n",
      "        13 is Radius SE, field 23 is Worst Radius.\n",
      "\n",
      "        - class:\n",
      "                - WDBC-Malignant\n",
      "                - WDBC-Benign\n",
      "\n",
      "    :Summary Statistics:\n",
      "\n",
      "    ===================================== ====== ======\n",
      "                                           Min    Max\n",
      "    ===================================== ====== ======\n",
      "    radius (mean):                        6.981  28.11\n",
      "    texture (mean):                       9.71   39.28\n",
      "    perimeter (mean):                     43.79  188.5\n",
      "    area (mean):                          143.5  2501.0\n",
      "    smoothness (mean):                    0.053  0.163\n",
      "    compactness (mean):                   0.019  0.345\n",
      "    concavity (mean):                     0.0    0.427\n",
      "    concave points (mean):                0.0    0.201\n",
      "    symmetry (mean):                      0.106  0.304\n",
      "    fractal dimension (mean):             0.05   0.097\n",
      "    radius (standard error):              0.112  2.873\n",
      "    texture (standard error):             0.36   4.885\n",
      "    perimeter (standard error):           0.757  21.98\n",
      "    area (standard error):                6.802  542.2\n",
      "    smoothness (standard error):          0.002  0.031\n",
      "    compactness (standard error):         0.002  0.135\n",
      "    concavity (standard error):           0.0    0.396\n",
      "    concave points (standard error):      0.0    0.053\n",
      "    symmetry (standard error):            0.008  0.079\n",
      "    fractal dimension (standard error):   0.001  0.03\n",
      "    radius (worst):                       7.93   36.04\n",
      "    texture (worst):                      12.02  49.54\n",
      "    perimeter (worst):                    50.41  251.2\n",
      "    area (worst):                         185.2  4254.0\n",
      "    smoothness (worst):                   0.071  0.223\n",
      "    compactness (worst):                  0.027  1.058\n",
      "    concavity (worst):                    0.0    1.252\n",
      "    concave points (worst):               0.0    0.291\n",
      "    symmetry (worst):                     0.156  0.664\n",
      "    fractal dimension (worst):            0.055  0.208\n",
      "    ===================================== ====== ======\n",
      "\n",
      "    :Missing Attribute Values: None\n",
      "\n",
      "    :Class Distribution: 212 - Malignant, 357 - Benign\n",
      "\n",
      "    :Creator:  Dr. William H. Wolberg, W. Nick Street, Olvi L. Mangasarian\n",
      "\n",
      "    :Donor: Nick Street\n",
      "\n",
      "    :Date: November, 1995\n",
      "\n",
      "This is a copy of UCI ML Breast Cancer Wisconsin (Diagnostic) datasets.\n",
      "https://goo.gl/U2Uwz2\n",
      "\n",
      "Features are computed from a digitized image of a fine needle\n",
      "aspirate (FNA) of a breast mass.  They describe\n",
      "characteristics of the cell nuclei present in the image.\n",
      "\n",
      "Separating plane described above was obtained using\n",
      "Multisurface Method-Tree (MSM-T) [K. P. Bennett, \"Decision Tree\n",
      "Construction Via Linear Programming.\" Proceedings of the 4th\n",
      "Midwest Artificial Intelligence and Cognitive Science Society,\n",
      "pp. 97-101, 1992], a classification method which uses linear\n",
      "programming to construct a decision tree.  Relevant features\n",
      "were selected using an exhaustive search in the space of 1-4\n",
      "features and 1-3 separating planes.\n",
      "\n",
      "The actual linear program used to obtain the separating plane\n",
      "in the 3-dimensional space is that described in:\n",
      "[K. P. Bennett and O. L. Mangasarian: \"Robust Linear\n",
      "Programming Discrimination of Two Linearly Inseparable Sets\",\n",
      "Optimization Methods and Software 1, 1992, 23-34].\n",
      "\n",
      "This database is also available through the UW CS ftp server:\n",
      "\n",
      "ftp ftp.cs.wisc.edu\n",
      "cd math-prog/cpo-dataset/machine-learn/WDBC/\n",
      "\n",
      ".. topic:: References\n",
      "\n",
      "   - W.N. Street, W.H. Wolberg and O.L. Mangasarian. Nuclear feature extraction \n",
      "     for breast tumor diagnosis. IS&T/SPIE 1993 International Symposium on \n",
      "     Electronic Imaging: Science and Technology, volume 1905, pages 861-870,\n",
      "     San Jose, CA, 1993.\n",
      "   - O.L. Mangasarian, W.N. Street and W.H. Wolberg. Breast cancer diagnosis and \n",
      "     prognosis via linear programming. Operations Research, 43(4), pages 570-577, \n",
      "     July-August 1995.\n",
      "   - W.H. Wolberg, W.N. Street, and O.L. Mangasarian. Machine learning techniques\n",
      "     to diagnose breast cancer from fine-needle aspirates. Cancer Letters 77 (1994) \n",
      "     163-171.\n"
     ]
    }
   ],
   "source": [
    "# Import Breast Cancer data\n",
    "import statsmodels.api as sm\n",
    "from sklearn.datasets import load_breast_cancer\n",
    "\n",
    "data = load_breast_cancer() # sklearn.utils.Bunch datatype\n",
    "cols = ['radius', \n",
    "        'texture', \n",
    "        'perimeter', \n",
    "        'area', \n",
    "        'smoothness', \n",
    "        'compactness', \n",
    "        'concavity', \n",
    "        'concave_points', \n",
    "        'symmetry', \n",
    "        'fractal_dim', \n",
    "        'radius_err', \n",
    "        'texture_err', \n",
    "        'perimeter_error', \n",
    "        'area_error', \n",
    "        'smoothness_err', \n",
    "        'compactness_err', \n",
    "        'concavity_err', \n",
    "        'concave_points_err', \n",
    "        'symmetry_err', \n",
    "        'fractal_dim_error', \n",
    "        'worst_radius', \n",
    "        'worst_texture', \n",
    "        'worst_perimeter', \n",
    "        'worst_area', \n",
    "        'worst_smoothness', \n",
    "        'worst_compactness', \n",
    "        'worst_concavity', \n",
    "        'worst_concave_points', \n",
    "        'worst_symmtry', \n",
    "        'worst_fractal_dim']\n",
    "X = pd.DataFrame( data.data, columns = cols ) # feature df\n",
    "y = data.target # Malignant = 0, Benign = 1\n",
    "\n",
    "print( data.DESCR ) #view description of data\n"
   ]
  },
  {
   "cell_type": "markdown",
   "metadata": {},
   "source": [
    "**Create Preprocessing Pipeline**"
   ]
  },
  {
   "cell_type": "code",
   "execution_count": 90,
   "metadata": {},
   "outputs": [],
   "source": [
    "# Standardize Scale of Columns\n",
    "from sklearn.preprocessing import StandardScaler\n",
    "\n",
    "def prepro_scale( X_mat ):\n",
    "    df = X_mat.copy()                            # copy data\n",
    "    scale = StandardScaler()                     # instantiate model\n",
    "    trans = scale.fit_transform( df )            # scale feature df\n",
    "    df = pd.DataFrame( trans, columns=df.columns ) # convert to df\n",
    "    \n",
    "    return df"
   ]
  },
  {
   "cell_type": "code",
   "execution_count": 91,
   "metadata": {},
   "outputs": [],
   "source": [
    "# Combine to preprocessing pipleline for future testing\n",
    "def preprocess_data( X_mat ):\n",
    "    df = X_mat.copy()\n",
    "    df = prepro_scale( df ) # scale feature matrix\n",
    "    \n",
    "    return df"
   ]
  },
  {
   "cell_type": "code",
   "execution_count": 93,
   "metadata": {},
   "outputs": [],
   "source": [
    "# Train test split data for machine learning\n",
    "from sklearn.model_selection import train_test_split\n",
    "\n",
    "x_train, x_test, y_train, y_test = train_test_split(X,             \n",
    "                                                    y,              \n",
    "                                                    test_size = 0.2,  # size of test split\n",
    "                                                    random_state = 42) # RandomState instance same each time\n",
    "\n",
    "# Process feature data\n",
    "x_train_pro = preprocess_data( x_train )\n",
    "x_test_pro = preprocess_data( x_test )\n"
   ]
  },
  {
   "cell_type": "markdown",
   "metadata": {},
   "source": [
    "<p><a name='logistic'></a><p>\n",
    "\n",
    "## Logistic Regression\n",
    "\n",
    "Links:\n",
    "\n",
    "Background:\n"
   ]
  },
  {
   "cell_type": "markdown",
   "metadata": {},
   "source": [
    "### Baseline Model"
   ]
  },
  {
   "cell_type": "markdown",
   "metadata": {},
   "source": [
    "**Create Logistic Regression Model**"
   ]
  },
  {
   "cell_type": "code",
   "execution_count": 102,
   "metadata": {},
   "outputs": [
    {
     "data": {
      "text/plain": [
       "0.9868131868131869"
      ]
     },
     "execution_count": 102,
     "metadata": {},
     "output_type": "execute_result"
    }
   ],
   "source": [
    "from sklearn.linear_model import LogisticRegression\n",
    "\n",
    "logistic = LogisticRegression()                  # instantiate baseline model\n",
    "logistic = logistic.fit( x_train_pro, y_train )  # fit model with data\n",
    "y_pred = logistic.predict( x_test_pro )          # predict target class\n"
   ]
  },
  {
   "cell_type": "markdown",
   "metadata": {},
   "source": [
    "**Evaluate Baseline Model**\n",
    "\n",
    "Other packages for binary classification:\n",
    "\n",
    "`metrics.confusion_matrix` - TP, TN, FP, FN\n",
    "\n",
    "`metrics.roc_curve` - ROC curve (TruePosRate vs FalsePosRate)"
   ]
  },
  {
   "cell_type": "code",
   "execution_count": 99,
   "metadata": {},
   "outputs": [
    {
     "name": "stdout",
     "output_type": "stream",
     "text": [
      "Accuracy: 0.9825\n"
     ]
    }
   ],
   "source": [
    "# accuracy_score = % of correct predictions\n",
    "from sklearn.metrics import accuracy_score\n",
    "acc = accuracy_score(y_test, y_pred)\n",
    "print('Accuracy: %0.4f' % acc)\n",
    "\n",
    "### If data imbalanced, could guess 'Yes' 100% and be right 90% of time"
   ]
  },
  {
   "cell_type": "code",
   "execution_count": 126,
   "metadata": {},
   "outputs": [
    {
     "name": "stdout",
     "output_type": "stream",
     "text": [
      "Accuracy: 0.9825\n",
      "Precision: 0.9726\n",
      "Recall (Senitivity, TPR): 1.0000\n",
      "Specificity (TNR): 0.9535\n"
     ]
    }
   ],
   "source": [
    "# confusion matrix - TP, FP (Type 1 error), FN (Type 2 error), TP\n",
    "from sklearn.metrics import confusion_matrix\n",
    "tn, fp, fn, tp = confusion_matrix(y_test, y_pred).ravel()\n",
    "\n",
    "accuracy = (tp+tn) / sum([tn, fp, fn, tp]) # n_correct / n_predictions\n",
    "precision = tp / (tp+fp) # t_pos / all_p (positive predictive value)\n",
    "recall = tp / (tp+fn) # t_pos / actual_p (sensitivity, true postive rate)\n",
    "specificity = tn / (tn+fp) #t_neg / actual_n (true negative rate - opposite of recall)\n",
    "\n",
    "print('Accuracy: %0.4f' % accuracy)\n",
    "print('Precision: %0.4f' % precision)\n",
    "print('Recall (Senitivity, TPR): %0.4f' % recall)\n",
    "print('Specificity (TNR): %0.4f' % specificity)\n"
   ]
  },
  {
   "cell_type": "code",
   "execution_count": 100,
   "metadata": {},
   "outputs": [
    {
     "name": "stdout",
     "output_type": "stream",
     "text": [
      "              precision    recall  f1-score   support\n",
      "\n",
      "           0       1.00      0.95      0.98        43\n",
      "           1       0.97      1.00      0.99        71\n",
      "\n",
      "    accuracy                           0.98       114\n",
      "   macro avg       0.99      0.98      0.98       114\n",
      "weighted avg       0.98      0.98      0.98       114\n",
      "\n"
     ]
    }
   ],
   "source": [
    "# classification report\n",
    "    # Precision = TP / (TP+FP)\n",
    "    # Recall = TP / (TP+FN)\n",
    "    # f1-score = norm. mean of P and R (best=1)\n",
    "    # support = n_occurances in y_true\n",
    "    \n",
    "from sklearn.metrics import classification_report\n",
    "class_report = classification_report(y_test, y_pred)\n",
    "print(class_report)"
   ]
  },
  {
   "cell_type": "code",
   "execution_count": 114,
   "metadata": {},
   "outputs": [
    {
     "data": {
      "image/png": "[encoded data removed]",
      "text/plain": [
       "<Figure size 432x288 with 1 Axes>"
      ]
     },
     "metadata": {
      "needs_background": "light"
     },
     "output_type": "display_data"
    }
   ],
   "source": [
    "# Receiver Operator Curve (ROC Curve)\n",
    "from sklearn.metrics import roc_curve, auc\n",
    "\n",
    "fpr, tpr, thresholds = roc_curve(y_test, y_pred) # calculate FPR and TRP\n",
    "roc_auc = auc(fpr, tpr) # area under ROC \n",
    "\n",
    "# Plot\n",
    "plt.figure()\n",
    "lw = 2\n",
    "plt.plot(fpr, \n",
    "         tpr,\n",
    "         color='darkorange',\n",
    "         lw=lw,\n",
    "         label='ROC curve (area = %0.2f)' % roc_auc)\n",
    "plt.plot([0, 1], [0, 1], color='navy', lw=lw, linestyle='--')\n",
    "plt.xlim([0.0, 1.0])\n",
    "plt.ylim([0.0, 1.05])\n",
    "plt.xlabel('False Positive Rate')\n",
    "plt.ylabel('True Positive Rate')\n",
    "plt.title('ROC Curve')\n",
    "plt.legend(loc=\"lower right\")\n",
    "plt.show()"
   ]
  },
  {
   "cell_type": "markdown",
   "metadata": {},
   "source": [
    "### Regularized Model with Hyperparameters"
   ]
  },
  {
   "cell_type": "markdown",
   "metadata": {},
   "source": [
    "**Create Logistic Regression Model**"
   ]
  },
  {
   "cell_type": "code",
   "execution_count": 132,
   "metadata": {},
   "outputs": [],
   "source": [
    "from sklearn.linear_model import LogisticRegression\n",
    "\n",
    "logistic = LogisticRegression(penalty = 'l2',        # specify norm used in penalization\n",
    "                              class_weight = 'balanced',   # address class imbalance\n",
    "                              random_state = 42,     # RandomState instance same each time\n",
    "                              n_jobs = -1)           # n-1 CPUs used\n"
   ]
  },
  {
   "cell_type": "code",
   "execution_count": 133,
   "metadata": {},
   "outputs": [],
   "source": [
    "from sklearn.model_selection import GridSearchCV\n",
    "\n",
    "param_grid = {'C': np.linspace(0,5,20),         # inverse lambda pen. term\n",
    "              'fit_intercept': [True, False]}   # calculate intercept or not (beta0)\n",
    "\n",
    "# Instantiate GridSearchCV model\n",
    "grid = GridSearchCV(estimator = logistic,\n",
    "                    param_grid = param_grid,\n",
    "                    cv = 5)\n",
    "\n",
    "# Fit training data to GridSearchCV model\n",
    "grid.fit( x_train_pro, y_train)\n",
    "\n",
    "# Assign tuned parameters to model \n",
    "logistic = grid.best_estimator_ # best model\n",
    "\n"
   ]
  },
  {
   "cell_type": "markdown",
   "metadata": {},
   "source": [
    "**Investigate GridSearch Attributes**\n",
    "\n",
    "`grid.best_estimator_` = return all parameters of best model\n",
    "\n",
    "`grid.best_params_` = returns only params searched (ie. param_grid features)\n",
    "\n",
    "`grid.best_estimator_.coef_` = returns best model's coeffs\n",
    "\n",
    "`grid.best_estimator_.intercept` = returns best model's intercept\n",
    "\n",
    "`grid.best_score_` = returns best R^2 score (able to choose metric)"
   ]
  },
  {
   "cell_type": "code",
   "execution_count": 134,
   "metadata": {},
   "outputs": [
    {
     "data": {
      "text/plain": [
       "{'C': 0.2631578947368421, 'fit_intercept': True}"
      ]
     },
     "execution_count": 134,
     "metadata": {},
     "output_type": "execute_result"
    }
   ],
   "source": [
    "grid.best_params_ "
   ]
  },
  {
   "cell_type": "markdown",
   "metadata": {},
   "source": [
    "**Evaluate Model Performance/Accuracy**"
   ]
  },
  {
   "cell_type": "code",
   "execution_count": 135,
   "metadata": {},
   "outputs": [
    {
     "name": "stdout",
     "output_type": "stream",
     "text": [
      "Accuracy: 0.9825\n"
     ]
    }
   ],
   "source": [
    "# accuracy_score = % of correct predictions\n",
    "from sklearn.metrics import accuracy_score\n",
    "acc = accuracy_score(y_test, y_pred)\n",
    "print('Accuracy: %0.4f' % acc)\n",
    "\n",
    "### If data imbalanced, could guess 'Yes' 100% and be right 90% of time"
   ]
  },
  {
   "cell_type": "code",
   "execution_count": 136,
   "metadata": {},
   "outputs": [
    {
     "name": "stdout",
     "output_type": "stream",
     "text": [
      "Accuracy: 0.9825\n",
      "Precision: 0.9726\n",
      "Recall (Senitivity, TPR): 1.0000\n",
      "Specificity (TNR): 0.9535\n"
     ]
    }
   ],
   "source": [
    "# confusion matrix - TP, FP (Type 1 error), FN (Type 2 error), TP\n",
    "from sklearn.metrics import confusion_matrix\n",
    "tn, fp, fn, tp = confusion_matrix(y_test, y_pred).ravel()\n",
    "\n",
    "accuracy = (tp+tn) / sum([tn, fp, fn, tp]) # n_correct / n_predictions\n",
    "precision = tp / (tp+fp) # t_pos / all_p (positive predictive value)\n",
    "recall = tp / (tp+fn) # t_pos / actual_p (sensitivity, true postive rate)\n",
    "specificity = tn / (tn+fp) #t_neg / actual_n (true negative rate - opposite of recall)\n",
    "\n",
    "print('Accuracy: %0.4f' % accuracy)\n",
    "print('Precision: %0.4f' % precision)\n",
    "print('Recall (Senitivity, TPR): %0.4f' % recall)\n",
    "print('Specificity (TNR): %0.4f' % specificity)\n"
   ]
  },
  {
   "cell_type": "code",
   "execution_count": 137,
   "metadata": {},
   "outputs": [
    {
     "name": "stdout",
     "output_type": "stream",
     "text": [
      "              precision    recall  f1-score   support\n",
      "\n",
      "           0       1.00      0.95      0.98        43\n",
      "           1       0.97      1.00      0.99        71\n",
      "\n",
      "    accuracy                           0.98       114\n",
      "   macro avg       0.99      0.98      0.98       114\n",
      "weighted avg       0.98      0.98      0.98       114\n",
      "\n"
     ]
    }
   ],
   "source": [
    "# classification report\n",
    "    # Precision = TP / (TP+FP)\n",
    "    # Recall = TP / (TP+FN)\n",
    "    # f1-score = norm. mean of P and R (best=1)\n",
    "    # support = n_occurances in y_true\n",
    "    \n",
    "from sklearn.metrics import classification_report\n",
    "class_report = classification_report(y_test, y_pred)\n",
    "print(class_report)"
   ]
  },
  {
   "cell_type": "code",
   "execution_count": 138,
   "metadata": {},
   "outputs": [
    {
     "data": {
      "image/png": "[encoded data removed]",
      "text/plain": [
       "<Figure size 432x288 with 1 Axes>"
      ]
     },
     "metadata": {
      "needs_background": "light"
     },
     "output_type": "display_data"
    }
   ],
   "source": [
    "# Receiver Operator Curve (ROC Curve)\n",
    "from sklearn.metrics import roc_curve, auc\n",
    "\n",
    "fpr, tpr, thresholds = roc_curve(y_test, y_pred) # calculate FPR and TRP\n",
    "roc_auc = auc(fpr, tpr) # area under ROC \n",
    "\n",
    "# Plot\n",
    "plt.figure()\n",
    "lw = 2\n",
    "plt.plot(fpr, \n",
    "         tpr,\n",
    "         color='darkorange',\n",
    "         lw=lw,\n",
    "         label='ROC curve (area = %0.2f)' % roc_auc)\n",
    "plt.plot([0, 1], [0, 1], color='navy', lw=lw, linestyle='--')\n",
    "plt.xlim([0.0, 1.0])\n",
    "plt.ylim([0.0, 1.05])\n",
    "plt.xlabel('False Positive Rate')\n",
    "plt.ylabel('True Positive Rate')\n",
    "plt.title('ROC Curve')\n",
    "plt.legend(loc=\"lower right\")\n",
    "plt.show()"
   ]
  },
  {
   "cell_type": "code",
   "execution_count": null,
   "metadata": {},
   "outputs": [],
   "source": []
  },
  {
   "cell_type": "code",
   "execution_count": null,
   "metadata": {},
   "outputs": [],
   "source": []
  }
 ],
 "metadata": {
  "kernelspec": {
   "display_name": "Python 3",
   "language": "python",
   "name": "python3"
  },
  "language_info": {
   "codemirror_mode": {
    "name": "ipython",
    "version": 3
   },
   "file_extension": ".py",
   "mimetype": "text/x-python",
   "name": "python",
   "nbconvert_exporter": "python",
   "pygments_lexer": "ipython3",
   "version": "3.7.4"
  }
 },
 "nbformat": 4,
 "nbformat_minor": 2
}
